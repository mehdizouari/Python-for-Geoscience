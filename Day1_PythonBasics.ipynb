{
  "nbformat": 4,
  "nbformat_minor": 0,
  "metadata": {
    "colab": {
      "name": "Day1_PythonBasics_August_17th.ipynb",
      "provenance": []
    },
    "kernelspec": {
      "name": "python3",
      "display_name": "Python 3"
    },
    "accelerator": "TPU"
  },
  "cells": [
    {
      "cell_type": "markdown",
      "metadata": {
        "id": "Dl_O2DQVDiCD",
        "colab_type": "text"
      },
      "source": [
        "# PYTHON PROGRAMMING for MACHINE LEARNING and DEEP LEARNING in GEOSCIENCE\n",
        "\n",
        "17 - 21 de August, 2020\n",
        "\n",
        "**Date**: August 10th, 2020"
      ]
    },
    {
      "cell_type": "markdown",
      "metadata": {
        "id": "QqCyzKHtD19i",
        "colab_type": "text"
      },
      "source": [
        "## Agenda\n",
        "* **Day 1: Python basics**\n",
        "  - Jupyter Notebook / Google Colab\n",
        "  - Markdown | Latex\n",
        "  - Variables\n",
        "  - Data Types\n",
        "  - Functions \n",
        "  - Main Libraries (Numpy, Matplotlib)\n",
        "\n",
        "* **Day 2: Python in Geology,  Geophysics, and Petroleum Engineer**\n",
        "  - Well logs\n",
        "  - Wavelet (Time domain)\n",
        "  - Liberia SciPy\n",
        "  - Wavelet (Frequency domain)\n",
        "  - Seismic \n",
        "  - Post - Stack attributes\n",
        "  - Extra:\n",
        "    - lasIO\n",
        "    - welly\n",
        "    - petroPy\n",
        "\n",
        "* **Day 3**: Exploratory Data Analysis\n",
        "  - Pandas\n",
        "  - Seaborn\n",
        "\n",
        "* **Day 4**: Machine Learning in Geology and Geophysics\n",
        "  - Scikit - Learn\n",
        "    - KNN\n",
        "    - K- Means\n",
        "    - Decision Trees\n",
        "    - Dimension Reduction (PCA)\n",
        "\n",
        "* **Day 5: Deep Learning in Geology and Geophysics**\n",
        "  - Neural Networks (steps by steps)\n",
        "  - Keras - TensorFlow:\n",
        "    - Neural Network for facies prediction\n",
        "    - LSTM for Time Series Prediction (Forecast oil well production)\n",
        "    - Convolutional Neural Networks\n",
        "        - Fault Prediction\n",
        "        - Seismic Interpretation"
      ]
    },
    {
      "cell_type": "markdown",
      "metadata": {
        "id": "NmQI2aH4D_zm",
        "colab_type": "text"
      },
      "source": [
        "### Instructor\n",
        "* Roderick Perez\n",
        "  - Geophysical Engineer:, Universidad Simon Bolivar (Venezuela) | 2000 - 2007\n",
        "  - M.Sc. Geology, University of Oklahoma (USA) | 2007 - 2009\n",
        "  - Ph.D. Geophysics, University of Oklahoma (USA) | 2009 - 2013\n",
        "  - MBA, Universidad de los Andes (Colombia) | 2015 - 2019\n",
        "  - M.Sc. Data Science | Universidad de Viena | 2020 - 2022?\n",
        "\n",
        "* Contact::\n",
        "  - **Email**: roderickperezaltamar@gmail.com\n",
        "  - **Website**: https://roderickperez.github.io/geoDataScience/\n",
        "  - **GitHub**: https://github.com/roderickperez\n",
        "  - **LinkedIn**: https://www.linkedin.com/in/roderickperezaltamar/"
      ]
    },
    {
      "cell_type": "markdown",
      "metadata": {
        "id": "uCifoeVNDahO",
        "colab_type": "text"
      },
      "source": [
        "### Participants\n",
        "* 9 people\n",
        "* Survey: https://freeonlinesurveys.com/s/gFGKW9Ef"
      ]
    },
    {
      "cell_type": "markdown",
      "metadata": {
        "id": "CCcqE8c_LBu5",
        "colab_type": "text"
      },
      "source": [
        "# Hours:\n",
        "Colombia:\n",
        "* 6 - 9am | 11am - 2pm"
      ]
    },
    {
      "cell_type": "markdown",
      "metadata": {
        "id": "uqFlzLLyLtVG",
        "colab_type": "text"
      },
      "source": [
        "# Why Program?\n",
        "* Fun\n",
        "* Divide complex problems into simpler solutions\n",
        "* Develop problem solving strategy\n",
        "* Try your own solutions"
      ]
    },
    {
      "cell_type": "markdown",
      "metadata": {
        "id": "OsqE2VmfMATK",
        "colab_type": "text"
      },
      "source": [
        "# Programming Strategy (Scientific Method)\n",
        "1. Define a **problem**\n",
        "2. Collect information\n",
        "3. Hypothesis\n",
        "4. Test hypothesis\n",
        "5. Analyze the data\n",
        "6. Interpret the data and draw conclusions that serve to test the hypothesis (in step 3)\n",
        "7. Publish results\n",
        "8. Repeat results"
      ]
    },
    {
      "cell_type": "markdown",
      "metadata": {
        "id": "0DeRZXXJNGlw",
        "colab_type": "text"
      },
      "source": [
        "# Python\n",
        "\n",
        "* Language of **computation** is the language we use to *talk* with the machine (0's and 1's).\n",
        "* Language of **programming** are a code of instructions, in which we have:\n",
        "  - A precise structure form (*syntax*)\n",
        "  - Precise meaning (*semantic*).\n",
        "\n",
        "**PYTHON** is one of many *programming languages​​*."
      ]
    },
    {
      "cell_type": "markdown",
      "metadata": {
        "id": "zQ1QAXpBM-o0",
        "colab_type": "text"
      },
      "source": [
        "# Google Colab\n",
        "\n",
        "* Combine *text* cells and code very efficiently.\n",
        "* Data stored in GDrive\n",
        "* Development and testing\n",
        "* Computing is not done locally\n",
        "* Allows collaborative work between developers\n",
        "* 128 bit FLOPS (floating point number)\n",
        "* Unlimited RAM (up to 13 Gb RAM) *\n",
        "* Unlimited disk space (up to 103 Gb)\n",
        "* Very good for neural network training and development"
      ]
    },
    {
      "cell_type": "markdown",
      "metadata": {
        "id": "pXY8yT3TN6t0",
        "colab_type": "text"
      },
      "source": [
        "# Jupyter Notebook"
      ]
    },
    {
      "cell_type": "code",
      "metadata": {
        "id": "gxa7z9iHLx92",
        "colab_type": "code",
        "colab": {
          "base_uri": "https://localhost:8080/",
          "height": 34
        },
        "outputId": "a57cac84-3add-45b6-a533-217d77e31bfc"
      },
      "source": [
        "a = 45\n",
        "b = 74\n",
        "c = a + b\n",
        "print(c)"
      ],
      "execution_count": 18,
      "outputs": [
        {
          "output_type": "stream",
          "text": [
            "119\n"
          ],
          "name": "stdout"
        }
      ]
    },
    {
      "cell_type": "code",
      "metadata": {
        "id": "rfVg7IvTPuUW",
        "colab_type": "code",
        "colab": {
          "base_uri": "https://localhost:8080/",
          "height": 34
        },
        "outputId": "07e8cc0d-6041-4659-a899-0b2ffe6ed149"
      },
      "source": [
        "print('Hello')"
      ],
      "execution_count": 19,
      "outputs": [
        {
          "output_type": "stream",
          "text": [
            "Hello\n"
          ],
          "name": "stdout"
        }
      ]
    },
    {
      "cell_type": "markdown",
      "metadata": {
        "id": "YJb7I_XcRa2R",
        "colab_type": "text"
      },
      "source": [
        "## GPU\n",
        "Graphical Processing Unit"
      ]
    },
    {
      "cell_type": "code",
      "metadata": {
        "id": "utYLFOp7QYjo",
        "colab_type": "code",
        "colab": {}
      },
      "source": [
        "# %tensorflow_version 2.x\n",
        "# import tensorflow as tf\n",
        "# device_name = tf.test.gpu_device_name()\n",
        "# if device_name != '/device:GPU:0':\n",
        "#     raise SystemError('GPU device not found')\n",
        "# print('Found GPU at: {}'.format(device_name))"
      ],
      "execution_count": 20,
      "outputs": []
    },
    {
      "cell_type": "markdown",
      "metadata": {
        "id": "0Pj_pnZ0R_tq",
        "colab_type": "text"
      },
      "source": [
        "### **Test performance**\n",
        "\n",
        "This example constructs a typical convolutional neural network layer over a random image and manually places the resulting ops on either the CPU or the GPU\n",
        "to compare execution speed."
      ]
    },
    {
      "cell_type": "code",
      "metadata": {
        "id": "qcixcTCpSBr1",
        "colab_type": "code",
        "colab": {}
      },
      "source": [
        "# %tensorflow_version 2.x\n",
        "# import tensorflow as tf\n",
        "# import timeit\n",
        "\n",
        "# device_name = tf.test.gpu_device_name()\n",
        "# if device_name != '/device:GPU:0':\n",
        "#     print(\n",
        "#     '\\n\\nThis error most likely means that this notebook is not '\n",
        "#     'configured to use a GPU.  Change this in Notebook Settings via the '\n",
        "#     'command palette (cmd/ctrl-shift-P) or the Edit menu.\\n\\n')\n",
        "#     raise SystemError('GPU device not found')\n",
        "\n",
        "# def cpu():\n",
        "#   with tf.device('/cpu:0'):\n",
        "#     random_image_cpu = tf.random.normal((100, 100, 100, 3))\n",
        "#     net_cpu = tf.keras.layers.Conv2D(32, 7)(random_image_cpu)\n",
        "#     return tf.math.reduce_sum(net_cpu)\n",
        "\n",
        "# def gpu():\n",
        "#   with tf.device('/device:GPU:0'):\n",
        "#     random_image_gpu = tf.random.normal((100, 100, 100, 3))\n",
        "#     net_gpu = tf.keras.layers.Conv2D(32, 7)(random_image_gpu)\n",
        "#     return tf.math.reduce_sum(net_gpu)\n",
        "  \n",
        "# # We run each op once to warm up; see: https://stackoverflow.com/a/45067900\n",
        "# cpu()\n",
        "# gpu()\n",
        "\n",
        "# # # Run the op several times.\n",
        "# print('Time (s) to convolve 32x7x7x3 filter over random 100x100x100x3 images '\n",
        "#       '(batch x height x width x channel). Sum of ten runs.')\n",
        "# print('CPU (s):')\n",
        "# cpu_time = timeit.timeit('cpu()', number=10, setup=\"from __main__ import cpu\")\n",
        "# print(cpu_time)\n",
        "# print('GPU (s):')\n",
        "# gpu_time = timeit.timeit('gpu()', number=10, setup=\"from __main__ import gpu\")\n",
        "# print(gpu_time)\n",
        "# print('GPU speedup over CPU: {}x'.format(int(cpu_time/gpu_time)))"
      ],
      "execution_count": 21,
      "outputs": []
    },
    {
      "cell_type": "markdown",
      "metadata": {
        "id": "GTAKLF3gRdPh",
        "colab_type": "text"
      },
      "source": [
        "## TPU\n",
        "Tensor Processing Unit\n",
        "\n",
        "Good for Deep Neural Noetworks, specialliy Convolutional Neural Networks (CNN)."
      ]
    },
    {
      "cell_type": "code",
      "metadata": {
        "id": "a6w2QC5nReYz",
        "colab_type": "code",
        "colab": {}
      },
      "source": [
        "# %tensorflow_version 2.x\n",
        "# import tensorflow as tf\n",
        "# print(\"Tensorflow version \" + tf.__version__)\n",
        "\n",
        "# try:\n",
        "#   tpu = tf.distribute.cluster_resolver.TPUClusterResolver()  # TPU detection\n",
        "#   print('Running on TPU ', tpu.cluster_spec().as_dict()['worker'])\n",
        "# except ValueError:\n",
        "#   raise BaseException('ERROR: Not connected to a TPU runtime; please see the previous cell in this notebook for instructions!')\n",
        "\n",
        "# tf.config.experimental_connect_to_cluster(tpu)\n",
        "# tf.tpu.experimental.initialize_tpu_system(tpu)\n",
        "# tpu_strategy = tf.distribute.TPUStrategy(tpu)"
      ],
      "execution_count": 22,
      "outputs": []
    },
    {
      "cell_type": "markdown",
      "metadata": {
        "id": "j2DUok_fV4yt",
        "colab_type": "text"
      },
      "source": [
        "# Notebook Components"
      ]
    },
    {
      "cell_type": "markdown",
      "metadata": {
        "id": "mL4V_7glWx2y",
        "colab_type": "text"
      },
      "source": [
        "**bold**\n",
        "\n",
        "*italic*\n",
        "\n",
        "~~line~~\n",
        "\n",
        "```python\n",
        "plot(x,y)\n",
        "```\n",
        "\n",
        "`import matplotlib.pyplot as plt` inline code in your paragraph.\n",
        "\n",
        "\n",
        "This is the way I import the library of matplotlib.\n",
        "```pyhton\n",
        "import matplotlib.pyplot as plt\n",
        "```\n",
        "\n",
        "and you can add more text here.\n",
        "\n",
        "\n",
        "> This is a cell of text.\n",
        "\n",
        "\n",
        "\n",
        "1.   This is my first item\n",
        "2.   This is a second item\n",
        "3.   This is a third item\n",
        "4.\n",
        "\n",
        "\n",
        "\n",
        "*   Uno\n",
        "*   Dos\n",
        "*   Tres\n",
        "\n"
      ]
    },
    {
      "cell_type": "markdown",
      "metadata": {
        "id": "B8vsPxvjZZme",
        "colab_type": "text"
      },
      "source": [
        "---\n",
        "This is a paragraph\n",
        "\n",
        "---\n",
        "This is another paragraph\n",
        "\n",
        "\n",
        "\n",
        "---"
      ]
    },
    {
      "cell_type": "markdown",
      "metadata": {
        "id": "bWGnl5T7adHH",
        "colab_type": "text"
      },
      "source": [
        "## LaTex"
      ]
    },
    {
      "cell_type": "markdown",
      "metadata": {
        "id": "c6HYvApbbVc6",
        "colab_type": "text"
      },
      "source": [
        "This is a $\\LaTeX$"
      ]
    },
    {
      "cell_type": "markdown",
      "metadata": {
        "id": "83M9Hw52ag3h",
        "colab_type": "text"
      },
      "source": [
        "  - $y = 0.1 x + cos(\\alpha)$\n",
        "  - $\\frac{n!}{k!(n-k)!} = {n \\choose k}$\n",
        "  - $c = a + b * sin(\\alpha) * \\beta$"
      ]
    },
    {
      "cell_type": "markdown",
      "metadata": {
        "id": "dS4Cta-Mbl_5",
        "colab_type": "text"
      },
      "source": [
        "We can center the equations in the middle of the cell:\n",
        "\n",
        "$$a = \\sum_{i}^{inf} \\frac{s}{a}$$"
      ]
    },
    {
      "cell_type": "markdown",
      "metadata": {
        "id": "rkC9wJSzchHu",
        "colab_type": "text"
      },
      "source": [
        ""
      ]
    },
    {
      "cell_type": "markdown",
      "metadata": {
        "id": "53o9MGWEcb-z",
        "colab_type": "text"
      },
      "source": [
        "$$\\iint_{i = o}^{x}\\frac{sin\\left ( \\varepsilon  \\right )}{\\Delta \\prod }$$"
      ]
    },
    {
      "cell_type": "markdown",
      "metadata": {
        "id": "aTDgH6nTcrCf",
        "colab_type": "text"
      },
      "source": [
        "$$\n",
        "\\mathbf{J}\n",
        "=\n",
        "\\frac{d \\mathbf{f}}{d \\mathbf{x}}\n",
        "=\n",
        "\\left[ \\frac{\\partial \\mathbf{f}}{\\partial x_1}\n",
        "\\cdots \\frac{\\partial \\mathbf{f}}{\\partial x_n} \\right]\n",
        "=\n",
        "\\begin{bmatrix}\n",
        "\\frac{\\partial f_1}{\\partial x_1} & \\cdots &\n",
        "\\frac{\\partial f_1}{\\partial x_n} \\\\\n",
        "\\vdots & \\ddots & \\vdots \\\\\n",
        "\\frac{\\partial f_m}{\\partial x_1} & \\cdots &\n",
        "\\frac{\\partial f_m}{\\partial x_n}\n",
        "\\end{bmatrix}\n",
        "$$"
      ]
    },
    {
      "cell_type": "markdown",
      "metadata": {
        "id": "ojIE8CJlcunH",
        "colab_type": "text"
      },
      "source": [
        "### Tables\n",
        "\n",
        "First column name | Second column name | Third column name\n",
        "--- | --- | ---\n",
        "Row 1, Col 1 | Row 1, Col 2 | Row 1, Col 2\n",
        "Row 2, Col 1 | Row 2, Col 2 | Row 1, Col 2\n",
        "Row 2, Col 1 | Row 2, Col 2 | Row 1, Col 2\n",
        "Row 2, Col 1 | Row 2, Col 2 | Row 1, Col 2"
      ]
    },
    {
      "cell_type": "markdown",
      "metadata": {
        "id": "Y8HICMbOdSKF",
        "colab_type": "text"
      },
      "source": [
        "### Color Font\n",
        "\n",
        "```\n",
        "<font color=blue|red|green|pink|yellow>Text</font>\n",
        "```\n",
        "\n",
        "* <font color=red>Red</font>\n",
        "* <font color=blue>Blue</font>\n",
        "* <font color=green>Green</font>\n",
        "* <font color=pink>Pink</font>\n",
        "* <font color=yellow>Yellow</font>"
      ]
    },
    {
      "cell_type": "markdown",
      "metadata": {
        "id": "v1bd6O9neMTl",
        "colab_type": "text"
      },
      "source": [
        "# PYTHON (Yeah!!!!!)"
      ]
    },
    {
      "cell_type": "markdown",
      "metadata": {
        "id": "OzBxhEpCeUTy",
        "colab_type": "text"
      },
      "source": [
        "### Variables"
      ]
    },
    {
      "cell_type": "code",
      "metadata": {
        "id": "9Oys4xX3eO_q",
        "colab_type": "code",
        "colab": {
          "base_uri": "https://localhost:8080/",
          "height": 34
        },
        "outputId": "d4ce848a-9adf-42e1-d668-78ef07703dab"
      },
      "source": [
        "5646454874894564564864894546512315"
      ],
      "execution_count": 23,
      "outputs": [
        {
          "output_type": "execute_result",
          "data": {
            "text/plain": [
              "5646454874894564564864894546512315"
            ]
          },
          "metadata": {
            "tags": []
          },
          "execution_count": 23
        }
      ]
    },
    {
      "cell_type": "code",
      "metadata": {
        "id": "-qqmhqkReX0y",
        "colab_type": "code",
        "colab": {
          "base_uri": "https://localhost:8080/",
          "height": 34
        },
        "outputId": "05861c60-a304-45ab-a489-bc48a4c72cc2"
      },
      "source": [
        "10+3"
      ],
      "execution_count": 24,
      "outputs": [
        {
          "output_type": "execute_result",
          "data": {
            "text/plain": [
              "13"
            ]
          },
          "metadata": {
            "tags": []
          },
          "execution_count": 24
        }
      ]
    },
    {
      "cell_type": "code",
      "metadata": {
        "id": "HRFKcxrued42",
        "colab_type": "code",
        "colab": {}
      },
      "source": [
        "a = 10\n",
        "b = 3"
      ],
      "execution_count": 25,
      "outputs": []
    },
    {
      "cell_type": "markdown",
      "metadata": {
        "id": "mdizxVpoew6G",
        "colab_type": "text"
      },
      "source": [
        "I will make comments as text, using text cells. But also I will add comments into my code:"
      ]
    },
    {
      "cell_type": "code",
      "metadata": {
        "id": "azElmP8Jeozq",
        "colab_type": "code",
        "colab": {}
      },
      "source": [
        "# This a comment\n",
        "a = 10 # This is another comment beside my text"
      ],
      "execution_count": 26,
      "outputs": []
    },
    {
      "cell_type": "markdown",
      "metadata": {
        "id": "JBKbfpvQfmcZ",
        "colab_type": "text"
      },
      "source": [
        "We need to call one of the most important functions inside of Python, call `print( )` in order to display our results:"
      ]
    },
    {
      "cell_type": "code",
      "metadata": {
        "id": "vGN5BmXVfPE1",
        "colab_type": "code",
        "colab": {
          "base_uri": "https://localhost:8080/",
          "height": 34
        },
        "outputId": "fa2c49cb-ef84-4d3d-e919-d974b99490fd"
      },
      "source": [
        "print(a)"
      ],
      "execution_count": 27,
      "outputs": [
        {
          "output_type": "stream",
          "text": [
            "10\n"
          ],
          "name": "stdout"
        }
      ]
    },
    {
      "cell_type": "code",
      "metadata": {
        "id": "NrAzV1p9fzZj",
        "colab_type": "code",
        "colab": {
          "base_uri": "https://localhost:8080/",
          "height": 34
        },
        "outputId": "4eacc64e-45bb-4195-e91b-b19dbf3bd469"
      },
      "source": [
        "print(b)"
      ],
      "execution_count": 28,
      "outputs": [
        {
          "output_type": "stream",
          "text": [
            "3\n"
          ],
          "name": "stdout"
        }
      ]
    },
    {
      "cell_type": "code",
      "metadata": {
        "id": "eD4hNQrDf12P",
        "colab_type": "code",
        "colab": {}
      },
      "source": [
        "c = 20"
      ],
      "execution_count": 29,
      "outputs": []
    },
    {
      "cell_type": "code",
      "metadata": {
        "id": "qatIpXHsf73T",
        "colab_type": "code",
        "colab": {
          "base_uri": "https://localhost:8080/",
          "height": 34
        },
        "outputId": "969ad895-1450-4c4c-c3af-e14d4df6de4e"
      },
      "source": [
        "print(c)"
      ],
      "execution_count": 30,
      "outputs": [
        {
          "output_type": "stream",
          "text": [
            "20\n"
          ],
          "name": "stdout"
        }
      ]
    },
    {
      "cell_type": "code",
      "metadata": {
        "id": "XY2677JJhAhm",
        "colab_type": "code",
        "colab": {}
      },
      "source": [
        "a = 20 # This is an integer (int)\n",
        "b = 3.2 # This is a decimal (float)\n",
        "c = 'My name is Roderick'\n",
        "d = \"This is a Python Basic Course\" "
      ],
      "execution_count": 31,
      "outputs": []
    },
    {
      "cell_type": "code",
      "metadata": {
        "id": "BM_j5z_phmXJ",
        "colab_type": "code",
        "colab": {
          "base_uri": "https://localhost:8080/",
          "height": 34
        },
        "outputId": "fdc78c0b-cfb3-4409-ecdd-c89bc1ac9f89"
      },
      "source": [
        "print(c)"
      ],
      "execution_count": 32,
      "outputs": [
        {
          "output_type": "stream",
          "text": [
            "My name is Roderick\n"
          ],
          "name": "stdout"
        }
      ]
    },
    {
      "cell_type": "code",
      "metadata": {
        "id": "LDCE_ktnhpsW",
        "colab_type": "code",
        "colab": {
          "base_uri": "https://localhost:8080/",
          "height": 34
        },
        "outputId": "c44cc4dd-3c4a-420c-d66d-1ac4c4f61dc5"
      },
      "source": [
        "print(d)"
      ],
      "execution_count": 33,
      "outputs": [
        {
          "output_type": "stream",
          "text": [
            "This is a Python Basic Course\n"
          ],
          "name": "stdout"
        }
      ]
    },
    {
      "cell_type": "code",
      "metadata": {
        "id": "Wqey3CrYhrGR",
        "colab_type": "code",
        "colab": {
          "base_uri": "https://localhost:8080/",
          "height": 34
        },
        "outputId": "be717c58-c55a-4c09-ef55-466a6b1dad7c"
      },
      "source": [
        "e = 'This is the \"best\" Python course'\n",
        "print(e)"
      ],
      "execution_count": 38,
      "outputs": [
        {
          "output_type": "stream",
          "text": [
            "This is the \"best\" Python course\n"
          ],
          "name": "stdout"
        }
      ]
    },
    {
      "cell_type": "code",
      "metadata": {
        "id": "tu2nTK--h1ic",
        "colab_type": "code",
        "colab": {
          "base_uri": "https://localhost:8080/",
          "height": 34
        },
        "outputId": "92a8bcae-4620-4aac-df3e-98ab8c3080a1"
      },
      "source": [
        "f = \"Barcelona is the 'best' footbal team\"\n",
        "print(f)"
      ],
      "execution_count": 39,
      "outputs": [
        {
          "output_type": "stream",
          "text": [
            "Barcelona is the 'best' footbal team\n"
          ],
          "name": "stdout"
        }
      ]
    },
    {
      "cell_type": "markdown",
      "metadata": {
        "id": "pTgkdZGkiYao",
        "colab_type": "text"
      },
      "source": [
        "## Type of Data"
      ]
    },
    {
      "cell_type": "code",
      "metadata": {
        "id": "fwOdxAxFiDiX",
        "colab_type": "code",
        "colab": {
          "base_uri": "https://localhost:8080/",
          "height": 34
        },
        "outputId": "efc9976c-18ef-4157-c9bf-c0ec54f88561"
      },
      "source": [
        "type(a)"
      ],
      "execution_count": 40,
      "outputs": [
        {
          "output_type": "execute_result",
          "data": {
            "text/plain": [
              "int"
            ]
          },
          "metadata": {
            "tags": []
          },
          "execution_count": 40
        }
      ]
    },
    {
      "cell_type": "code",
      "metadata": {
        "id": "Co-2FksOid2Z",
        "colab_type": "code",
        "colab": {
          "base_uri": "https://localhost:8080/",
          "height": 34
        },
        "outputId": "398894b6-2353-4476-9536-68c05d331853"
      },
      "source": [
        "type(b)"
      ],
      "execution_count": 41,
      "outputs": [
        {
          "output_type": "execute_result",
          "data": {
            "text/plain": [
              "float"
            ]
          },
          "metadata": {
            "tags": []
          },
          "execution_count": 41
        }
      ]
    },
    {
      "cell_type": "code",
      "metadata": {
        "id": "eEWKt10qihqH",
        "colab_type": "code",
        "colab": {
          "base_uri": "https://localhost:8080/",
          "height": 34
        },
        "outputId": "ef7c1628-bba8-48d1-91b6-177a04c7b196"
      },
      "source": [
        "type(f)"
      ],
      "execution_count": 42,
      "outputs": [
        {
          "output_type": "execute_result",
          "data": {
            "text/plain": [
              "str"
            ]
          },
          "metadata": {
            "tags": []
          },
          "execution_count": 42
        }
      ]
    },
    {
      "cell_type": "markdown",
      "metadata": {
        "id": "KUTRI8SPipXb",
        "colab_type": "text"
      },
      "source": [
        "### Floats"
      ]
    },
    {
      "cell_type": "code",
      "metadata": {
        "id": "kZ1TfkwBijSF",
        "colab_type": "code",
        "colab": {
          "base_uri": "https://localhost:8080/",
          "height": 34
        },
        "outputId": "32ca73c4-268c-42c4-d57b-1d90b30f5bed"
      },
      "source": [
        "g = .6 # Do not recommend use this notation!!!\n",
        "print(g)"
      ],
      "execution_count": 46,
      "outputs": [
        {
          "output_type": "stream",
          "text": [
            "0.6\n"
          ],
          "name": "stdout"
        }
      ]
    },
    {
      "cell_type": "code",
      "metadata": {
        "id": "4KHAsBjBiul8",
        "colab_type": "code",
        "colab": {
          "base_uri": "https://localhost:8080/",
          "height": 34
        },
        "outputId": "dfc127db-c84d-4bcc-d5d2-4468043895dd"
      },
      "source": [
        "b = 3,2\n",
        "print(b)"
      ],
      "execution_count": 48,
      "outputs": [
        {
          "output_type": "stream",
          "text": [
            "(3, 2)\n"
          ],
          "name": "stdout"
        }
      ]
    },
    {
      "cell_type": "code",
      "metadata": {
        "id": "v-FqDZoxi_XB",
        "colab_type": "code",
        "colab": {
          "base_uri": "https://localhost:8080/",
          "height": 34
        },
        "outputId": "723d6336-58ba-470a-e00e-27d734e11fd3"
      },
      "source": [
        "type(b)"
      ],
      "execution_count": 49,
      "outputs": [
        {
          "output_type": "execute_result",
          "data": {
            "text/plain": [
              "tuple"
            ]
          },
          "metadata": {
            "tags": []
          },
          "execution_count": 49
        }
      ]
    },
    {
      "cell_type": "markdown",
      "metadata": {
        "id": "P6Mk8f0ljIwr",
        "colab_type": "text"
      },
      "source": [
        "*tuple* is a Python data structure."
      ]
    },
    {
      "cell_type": "markdown",
      "metadata": {
        "id": "xrJDkjYpjXaJ",
        "colab_type": "text"
      },
      "source": [
        "---\n",
        "\n",
        "Another **basic** data type that we have in Python are **Booleans**\n",
        "* `True`\n",
        "* `False`"
      ]
    },
    {
      "cell_type": "markdown",
      "metadata": {
        "id": "ofuh7QV3jtpP",
        "colab_type": "text"
      },
      "source": [
        "### Exercise"
      ]
    },
    {
      "cell_type": "code",
      "metadata": {
        "id": "KS0LDGrPjFmG",
        "colab_type": "code",
        "colab": {}
      },
      "source": [
        "name = ('Roderick')\n",
        "age = 37\n",
        "height = 1.85\n",
        "pythonista = True"
      ],
      "execution_count": 55,
      "outputs": []
    },
    {
      "cell_type": "markdown",
      "metadata": {
        "id": "MEP5l3u9kD0d",
        "colab_type": "text"
      },
      "source": [
        "We can combine Python functions, for example: `print ( )` and `type ( )`:"
      ]
    },
    {
      "cell_type": "code",
      "metadata": {
        "id": "2wNOt7DPj6Jx",
        "colab_type": "code",
        "colab": {
          "base_uri": "https://localhost:8080/",
          "height": 84
        },
        "outputId": "41154af9-4a29-4f0e-f7f0-a3df69707eec"
      },
      "source": [
        "print(type(name))\n",
        "print(type(age))\n",
        "print(type(height))\n",
        "print(type(pythonista))"
      ],
      "execution_count": 56,
      "outputs": [
        {
          "output_type": "stream",
          "text": [
            "<class 'str'>\n",
            "<class 'int'>\n",
            "<class 'float'>\n",
            "<class 'bool'>\n"
          ],
          "name": "stdout"
        }
      ]
    },
    {
      "cell_type": "markdown",
      "metadata": {
        "id": "8-Stpgn_kqOS",
        "colab_type": "text"
      },
      "source": [
        "## Math Operations"
      ]
    },
    {
      "cell_type": "markdown",
      "metadata": {
        "id": "vRaehGw1lZxf",
        "colab_type": "text"
      },
      "source": [
        "Summation"
      ]
    },
    {
      "cell_type": "code",
      "metadata": {
        "id": "p7x4ulfMkR6h",
        "colab_type": "code",
        "colab": {
          "base_uri": "https://localhost:8080/",
          "height": 34
        },
        "outputId": "176d7d1a-3e3b-45c6-eea3-ae4b455c9bf5"
      },
      "source": [
        "a = 10 # integer\n",
        "b = 3.0 # float\n",
        "\n",
        "c = a + b\n",
        "\n",
        "print(c)"
      ],
      "execution_count": 59,
      "outputs": [
        {
          "output_type": "stream",
          "text": [
            "13.0\n"
          ],
          "name": "stdout"
        }
      ]
    },
    {
      "cell_type": "markdown",
      "metadata": {
        "id": "ojtJNwBJlcms",
        "colab_type": "text"
      },
      "source": [
        "Substraction"
      ]
    },
    {
      "cell_type": "code",
      "metadata": {
        "id": "3XQlQAQGk0EU",
        "colab_type": "code",
        "colab": {
          "base_uri": "https://localhost:8080/",
          "height": 34
        },
        "outputId": "e72bb5bc-c33a-4f3d-c2f5-83614138c7a7"
      },
      "source": [
        "a = 10 # integer\n",
        "b = 3.0 # float\n",
        "\n",
        "c = a - b\n",
        "\n",
        "print(c)"
      ],
      "execution_count": 60,
      "outputs": [
        {
          "output_type": "stream",
          "text": [
            "7.0\n"
          ],
          "name": "stdout"
        }
      ]
    },
    {
      "cell_type": "markdown",
      "metadata": {
        "id": "FvZqJNqSli3o",
        "colab_type": "text"
      },
      "source": [
        "Multiplication"
      ]
    },
    {
      "cell_type": "code",
      "metadata": {
        "id": "ROjXo48blg6_",
        "colab_type": "code",
        "colab": {
          "base_uri": "https://localhost:8080/",
          "height": 34
        },
        "outputId": "e738a954-f1df-4a86-ec32-378fcc497508"
      },
      "source": [
        "a = 10 # integer\n",
        "b = 3.0 # float\n",
        "\n",
        "c = a * b\n",
        "\n",
        "print(c)"
      ],
      "execution_count": 61,
      "outputs": [
        {
          "output_type": "stream",
          "text": [
            "30.0\n"
          ],
          "name": "stdout"
        }
      ]
    },
    {
      "cell_type": "markdown",
      "metadata": {
        "id": "2wlhXq20lrEE",
        "colab_type": "text"
      },
      "source": [
        "Division"
      ]
    },
    {
      "cell_type": "code",
      "metadata": {
        "id": "rDHOqvuWlleF",
        "colab_type": "code",
        "colab": {
          "base_uri": "https://localhost:8080/",
          "height": 34
        },
        "outputId": "8d502c04-a267-4149-fcd7-f9120d48d06c"
      },
      "source": [
        "a = 10 # integer\n",
        "b = 3.0 # float\n",
        "\n",
        "c = a / b\n",
        "\n",
        "print(c)"
      ],
      "execution_count": 63,
      "outputs": [
        {
          "output_type": "stream",
          "text": [
            "3.3333333333333335\n"
          ],
          "name": "stdout"
        }
      ]
    },
    {
      "cell_type": "markdown",
      "metadata": {
        "id": "X2LW4YNIlyjy",
        "colab_type": "text"
      },
      "source": [
        "Floor division"
      ]
    },
    {
      "cell_type": "code",
      "metadata": {
        "id": "zYVHffFYlpd7",
        "colab_type": "code",
        "colab": {
          "base_uri": "https://localhost:8080/",
          "height": 34
        },
        "outputId": "841c9bfb-45a3-4a3b-afd1-d2f972c6dd74"
      },
      "source": [
        "a = 10 # integer\n",
        "b = 3.0 # float\n",
        "\n",
        "c = a // b # Floor division\n",
        "\n",
        "print(c)"
      ],
      "execution_count": 64,
      "outputs": [
        {
          "output_type": "stream",
          "text": [
            "3.0\n"
          ],
          "name": "stdout"
        }
      ]
    },
    {
      "cell_type": "markdown",
      "metadata": {
        "id": "dep3ko72l8GD",
        "colab_type": "text"
      },
      "source": [
        "Remainder"
      ]
    },
    {
      "cell_type": "code",
      "metadata": {
        "id": "VDh2jnxxl5FS",
        "colab_type": "code",
        "colab": {
          "base_uri": "https://localhost:8080/",
          "height": 34
        },
        "outputId": "c60936c6-bfaf-48b8-f5d0-e34a7b0f2360"
      },
      "source": [
        "a = 10 # integer\n",
        "b = 3.0 # float\n",
        "\n",
        "c = a % b # Remainder of the division\n",
        "\n",
        "print(c)"
      ],
      "execution_count": 65,
      "outputs": [
        {
          "output_type": "stream",
          "text": [
            "1.0\n"
          ],
          "name": "stdout"
        }
      ]
    },
    {
      "cell_type": "markdown",
      "metadata": {
        "id": "pSX39rWXmMfX",
        "colab_type": "text"
      },
      "source": [
        "Power\n",
        "\n",
        "$$c = 10^{3}$$\n",
        "$$c=1000$$"
      ]
    },
    {
      "cell_type": "code",
      "metadata": {
        "id": "5BB2NyDKmGA3",
        "colab_type": "code",
        "colab": {
          "base_uri": "https://localhost:8080/",
          "height": 34
        },
        "outputId": "0db1a168-1326-4903-bef0-50eae614f799"
      },
      "source": [
        "a = 10 # integer\n",
        "b = 3.0 # float\n",
        "\n",
        "c = a**(b)\n",
        "\n",
        "print(c)"
      ],
      "execution_count": 66,
      "outputs": [
        {
          "output_type": "stream",
          "text": [
            "1000.0\n"
          ],
          "name": "stdout"
        }
      ]
    },
    {
      "cell_type": "markdown",
      "metadata": {
        "id": "IkEM3SE6r9j7",
        "colab_type": "text"
      },
      "source": [
        "$$c = 10^{1/2}$$\n",
        "$$c=3.162$$"
      ]
    },
    {
      "cell_type": "code",
      "metadata": {
        "id": "0C-Y26JursAs",
        "colab_type": "code",
        "colab": {
          "base_uri": "https://localhost:8080/",
          "height": 34
        },
        "outputId": "abe1c212-a9e2-4841-8b4c-ef65026db8d5"
      },
      "source": [
        "a = 10 # integer\n",
        "b = 2.0 # float\n",
        "\n",
        "c = a**(1/b)\n",
        "\n",
        "print(c)"
      ],
      "execution_count": 87,
      "outputs": [
        {
          "output_type": "stream",
          "text": [
            "3.1622776601683795\n"
          ],
          "name": "stdout"
        }
      ]
    },
    {
      "cell_type": "markdown",
      "metadata": {
        "id": "7HgfaxQrmcM2",
        "colab_type": "text"
      },
      "source": [
        "Trigonometric Operations"
      ]
    },
    {
      "cell_type": "code",
      "metadata": {
        "id": "nbzwapwmmSJf",
        "colab_type": "code",
        "colab": {
          "base_uri": "https://localhost:8080/",
          "height": 229
        },
        "outputId": "5558da3b-2916-43f8-c698-9c3c80cf5ef7"
      },
      "source": [
        "a = 10 # integer\n",
        "\n",
        "c = sin(a)\n",
        "\n",
        "print(c)"
      ],
      "execution_count": 68,
      "outputs": [
        {
          "output_type": "error",
          "ename": "NameError",
          "evalue": "ignored",
          "traceback": [
            "\u001b[0;31m---------------------------------------------------------------------------\u001b[0m",
            "\u001b[0;31mNameError\u001b[0m                                 Traceback (most recent call last)",
            "\u001b[0;32m<ipython-input-68-f773afef5706>\u001b[0m in \u001b[0;36m<module>\u001b[0;34m()\u001b[0m\n\u001b[1;32m      1\u001b[0m \u001b[0ma\u001b[0m \u001b[0;34m=\u001b[0m \u001b[0;36m10\u001b[0m \u001b[0;31m# integer\u001b[0m\u001b[0;34m\u001b[0m\u001b[0;34m\u001b[0m\u001b[0m\n\u001b[1;32m      2\u001b[0m \u001b[0;34m\u001b[0m\u001b[0m\n\u001b[0;32m----> 3\u001b[0;31m \u001b[0mc\u001b[0m \u001b[0;34m=\u001b[0m \u001b[0msin\u001b[0m\u001b[0;34m(\u001b[0m\u001b[0ma\u001b[0m\u001b[0;34m)\u001b[0m\u001b[0;34m\u001b[0m\u001b[0;34m\u001b[0m\u001b[0m\n\u001b[0m\u001b[1;32m      4\u001b[0m \u001b[0;34m\u001b[0m\u001b[0m\n\u001b[1;32m      5\u001b[0m \u001b[0mprint\u001b[0m\u001b[0;34m(\u001b[0m\u001b[0mc\u001b[0m\u001b[0;34m)\u001b[0m\u001b[0;34m\u001b[0m\u001b[0;34m\u001b[0m\u001b[0m\n",
            "\u001b[0;31mNameError\u001b[0m: name 'sin' is not defined"
          ]
        }
      ]
    },
    {
      "cell_type": "markdown",
      "metadata": {
        "id": "uVqB24X5mooh",
        "colab_type": "text"
      },
      "source": [
        "Python you need to IMPORT external libraries to make our life easier. Exist several useful libraries to work in Python:\n",
        "\n",
        "* math\n",
        "* numpy\n",
        "* scipy: Scientific Python\n",
        "* simpy: algebra operacion, differentiations, etc...\n",
        "* matplotlib: visualization\n",
        "\n",
        "**Python Package Index (PyPI)**: https://pypi.org/"
      ]
    },
    {
      "cell_type": "code",
      "metadata": {
        "id": "Pz8ioNj8mhAO",
        "colab_type": "code",
        "colab": {
          "base_uri": "https://localhost:8080/",
          "height": 54
        },
        "outputId": "247b97e9-e8b6-4f40-ae93-d002a5f413f4"
      },
      "source": [
        "!pip install numpy"
      ],
      "execution_count": 74,
      "outputs": [
        {
          "output_type": "stream",
          "text": [
            "Requirement already satisfied: numpy in /usr/local/lib/python3.6/dist-packages (1.18.5)\n"
          ],
          "name": "stdout"
        }
      ]
    },
    {
      "cell_type": "code",
      "metadata": {
        "id": "zIlpjG4Zp9Xj",
        "colab_type": "code",
        "colab": {}
      },
      "source": [
        "ls = 3"
      ],
      "execution_count": 71,
      "outputs": []
    },
    {
      "cell_type": "code",
      "metadata": {
        "id": "XQFNaBGgqBCl",
        "colab_type": "code",
        "colab": {
          "base_uri": "https://localhost:8080/",
          "height": 34
        },
        "outputId": "3ea2dedc-f3dd-41a3-e464-308b1d22f53e"
      },
      "source": [
        "print(ls)"
      ],
      "execution_count": 72,
      "outputs": [
        {
          "output_type": "stream",
          "text": [
            "3\n"
          ],
          "name": "stdout"
        }
      ]
    },
    {
      "cell_type": "code",
      "metadata": {
        "id": "b17G6cGUqGR8",
        "colab_type": "code",
        "colab": {
          "base_uri": "https://localhost:8080/",
          "height": 34
        },
        "outputId": "73dcd49a-3b1b-47b5-a76e-eeba6e960781"
      },
      "source": [
        "!ls #list"
      ],
      "execution_count": 73,
      "outputs": [
        {
          "output_type": "stream",
          "text": [
            "'Couse_Orders_List_(AAPG-UFS).txt'   sample_data\n"
          ],
          "name": "stdout"
        }
      ]
    },
    {
      "cell_type": "markdown",
      "metadata": {
        "id": "g-0EFLnoqc53",
        "colab_type": "text"
      },
      "source": [
        "**BRUGES**: Bunch of Useful Geophysical Functions"
      ]
    },
    {
      "cell_type": "code",
      "metadata": {
        "id": "ZF9rirPrqPyV",
        "colab_type": "code",
        "colab": {
          "base_uri": "https://localhost:8080/",
          "height": 238
        },
        "outputId": "64447732-f0e8-46bc-9800-46cb1e9f5d85"
      },
      "source": [
        "!pip install bruges"
      ],
      "execution_count": 75,
      "outputs": [
        {
          "output_type": "stream",
          "text": [
            "Collecting bruges\n",
            "\u001b[?25l  Downloading https://files.pythonhosted.org/packages/f1/77/5518ccdbaeb3bea9436a3b04e57f51633acfcbf85b0cb6f82b2e3deb4f7a/bruges-0.3.4.tar.gz (54kB)\n",
            "\r\u001b[K     |██████                          | 10kB 16.3MB/s eta 0:00:01\r\u001b[K     |████████████                    | 20kB 1.8MB/s eta 0:00:01\r\u001b[K     |██████████████████              | 30kB 2.3MB/s eta 0:00:01\r\u001b[K     |████████████████████████        | 40kB 1.9MB/s eta 0:00:01\r\u001b[K     |██████████████████████████████  | 51kB 2.2MB/s eta 0:00:01\r\u001b[K     |████████████████████████████████| 61kB 2.0MB/s \n",
            "\u001b[?25hRequirement already satisfied: numpy in /usr/local/lib/python3.6/dist-packages (from bruges) (1.18.5)\n",
            "Requirement already satisfied: scipy in /usr/local/lib/python3.6/dist-packages (from bruges) (1.4.1)\n",
            "Building wheels for collected packages: bruges\n",
            "  Building wheel for bruges (setup.py) ... \u001b[?25l\u001b[?25hdone\n",
            "  Created wheel for bruges: filename=bruges-0.3.4-cp36-none-any.whl size=65219 sha256=17da99ab43ce2186fa808b26b12a06faa092f00e00cdcb285ac1c2b649e88cb4\n",
            "  Stored in directory: /root/.cache/pip/wheels/6a/4e/81/812612a250b3eba475e76e369bdb6d35a06edc2fc8a971539f\n",
            "Successfully built bruges\n",
            "Installing collected packages: bruges\n",
            "Successfully installed bruges-0.3.4\n"
          ],
          "name": "stdout"
        }
      ]
    },
    {
      "cell_type": "markdown",
      "metadata": {
        "id": "JcWEx76Sqwlt",
        "colab_type": "text"
      },
      "source": [
        "In order to do some specific and advance Mathematical Operations we need to call **internal** functions, such as: `math`:"
      ]
    },
    {
      "cell_type": "code",
      "metadata": {
        "id": "YMS3AJqyrLz_",
        "colab_type": "code",
        "colab": {}
      },
      "source": [
        "# Import module\n",
        "import math"
      ],
      "execution_count": 79,
      "outputs": []
    },
    {
      "cell_type": "code",
      "metadata": {
        "id": "aVjJ2hq5qpz_",
        "colab_type": "code",
        "colab": {
          "base_uri": "https://localhost:8080/",
          "height": 34
        },
        "outputId": "1502d6ee-4d7c-489d-e265-1db6c854c6df"
      },
      "source": [
        "a = 10 # integer\n",
        "\n",
        "c = math.sin(a)\n",
        "\n",
        "print(c)"
      ],
      "execution_count": 80,
      "outputs": [
        {
          "output_type": "stream",
          "text": [
            "-0.5440211108893698\n"
          ],
          "name": "stdout"
        }
      ]
    },
    {
      "cell_type": "code",
      "metadata": {
        "id": "JIDPmaBDrIdz",
        "colab_type": "code",
        "colab": {
          "base_uri": "https://localhost:8080/",
          "height": 34
        },
        "outputId": "20af94ca-0083-4255-9eeb-6ac92bbf4773"
      },
      "source": [
        "print(math.sin(math.pi))"
      ],
      "execution_count": 83,
      "outputs": [
        {
          "output_type": "stream",
          "text": [
            "1.2246467991473532e-16\n"
          ],
          "name": "stdout"
        }
      ]
    },
    {
      "cell_type": "code",
      "metadata": {
        "id": "Cwi_IWipranb",
        "colab_type": "code",
        "colab": {
          "base_uri": "https://localhost:8080/",
          "height": 34
        },
        "outputId": "7401844b-b9df-4275-e70b-c784ece3f727"
      },
      "source": [
        "math.pi"
      ],
      "execution_count": 84,
      "outputs": [
        {
          "output_type": "execute_result",
          "data": {
            "text/plain": [
              "3.141592653589793"
            ]
          },
          "metadata": {
            "tags": []
          },
          "execution_count": 84
        }
      ]
    },
    {
      "cell_type": "markdown",
      "metadata": {
        "id": "FQ4FT89gsM3C",
        "colab_type": "text"
      },
      "source": [
        "Square Roots:"
      ]
    },
    {
      "cell_type": "code",
      "metadata": {
        "id": "K9Mm-N02rkhF",
        "colab_type": "code",
        "colab": {
          "base_uri": "https://localhost:8080/",
          "height": 34
        },
        "outputId": "665eb8df-a198-4c8f-bd6d-6f1a478f7b81"
      },
      "source": [
        "math.sqrt(4)"
      ],
      "execution_count": 88,
      "outputs": [
        {
          "output_type": "execute_result",
          "data": {
            "text/plain": [
              "2.0"
            ]
          },
          "metadata": {
            "tags": []
          },
          "execution_count": 88
        }
      ]
    },
    {
      "cell_type": "code",
      "metadata": {
        "id": "UFGq1voMsQQp",
        "colab_type": "code",
        "colab": {
          "base_uri": "https://localhost:8080/",
          "height": 35
        },
        "outputId": "45b02a0e-2cc7-4e25-8c64-d359503ec1f7"
      },
      "source": [
        "math.sqrt(9)"
      ],
      "execution_count": 89,
      "outputs": [
        {
          "output_type": "execute_result",
          "data": {
            "text/plain": [
              "3.0"
            ]
          },
          "metadata": {
            "tags": []
          },
          "execution_count": 89
        }
      ]
    },
    {
      "cell_type": "markdown",
      "metadata": {
        "id": "89cS3sBusbd7",
        "colab_type": "text"
      },
      "source": [
        " # BREAK EXERCISE!!!"
      ]
    },
    {
      "cell_type": "markdown",
      "metadata": {
        "id": "ugW0GTijshBE",
        "colab_type": "text"
      },
      "source": [
        "$°C = \\left ( °F - 32 \\right )\\times \\frac{5}{9} $"
      ]
    },
    {
      "cell_type": "markdown",
      "metadata": {
        "id": "bhWhLnXgspmK",
        "colab_type": "text"
      },
      "source": [
        "Create a program that allows converting degrees *celcius* to degrees *Fahrenheit*, and that displays the results (using the `print ()` function) of $°C $ and $°F $, in the case of 20°C."
      ]
    },
    {
      "cell_type": "markdown",
      "metadata": {
        "id": "7P0LeYVhK5Il",
        "colab_type": "text"
      },
      "source": [
        "Let's translate the equation to Python:\n",
        "`C = (F-32)*(5/9)`\n",
        "\n",
        "Let's going to derive $F$ from the previous equation:\n",
        "`F=C*(9/5)+32`\n"
      ]
    },
    {
      "cell_type": "markdown",
      "metadata": {
        "id": "ZalEwmanLSZ4",
        "colab_type": "text"
      },
      "source": [
        ""
      ]
    },
    {
      "cell_type": "code",
      "metadata": {
        "id": "k27OENgPKtkC",
        "colab_type": "code",
        "colab": {
          "base_uri": "https://localhost:8080/",
          "height": 35
        },
        "outputId": "5e80f609-d0ec-4f3e-af3a-e4215f50f284"
      },
      "source": [
        "# 1. Define variables:\n",
        "C = 20\n",
        "\n",
        "# 2. Write equation:\n",
        "F=C*(9/5)+32\n",
        "\n",
        "# 3. Print solution:\n",
        "print(F)"
      ],
      "execution_count": 94,
      "outputs": [
        {
          "output_type": "stream",
          "text": [
            "68.0\n"
          ],
          "name": "stdout"
        }
      ]
    },
    {
      "cell_type": "markdown",
      "metadata": {
        "id": "QDOpWf8nLnJ-",
        "colab_type": "text"
      },
      "source": [
        "## User input:"
      ]
    },
    {
      "cell_type": "code",
      "metadata": {
        "id": "5irjr1s5Lw9J",
        "colab_type": "code",
        "colab": {
          "base_uri": "https://localhost:8080/",
          "height": 53
        },
        "outputId": "92594adc-ecfc-4e46-d6e7-96100e5b56f1"
      },
      "source": [
        "input(\"What's your name? :\")"
      ],
      "execution_count": 95,
      "outputs": [
        {
          "output_type": "stream",
          "text": [
            "What's your name? :Roderick\n"
          ],
          "name": "stdout"
        },
        {
          "output_type": "execute_result",
          "data": {
            "application/vnd.google.colaboratory.intrinsic+json": {
              "type": "string"
            },
            "text/plain": [
              "'Roderick'"
            ]
          },
          "metadata": {
            "tags": []
          },
          "execution_count": 95
        }
      ]
    },
    {
      "cell_type": "markdown",
      "metadata": {
        "id": "6hFCq1i1MDGP",
        "colab_type": "text"
      },
      "source": [
        "Let's storage the user input in a variable."
      ]
    },
    {
      "cell_type": "code",
      "metadata": {
        "id": "OxE304ROMIxG",
        "colab_type": "code",
        "colab": {
          "base_uri": "https://localhost:8080/",
          "height": 35
        },
        "outputId": "e8966f4c-5ea1-4952-9a4d-52eeeb6cba54"
      },
      "source": [
        "name = input(\"What's your name? :\")"
      ],
      "execution_count": 96,
      "outputs": [
        {
          "output_type": "stream",
          "text": [
            "What's your name? :Roderick\n"
          ],
          "name": "stdout"
        }
      ]
    },
    {
      "cell_type": "code",
      "metadata": {
        "id": "XYSuRz4LMMPh",
        "colab_type": "code",
        "colab": {
          "base_uri": "https://localhost:8080/",
          "height": 35
        },
        "outputId": "7d671678-81b2-4338-8d25-c6ac625903e6"
      },
      "source": [
        "print(name)"
      ],
      "execution_count": 97,
      "outputs": [
        {
          "output_type": "stream",
          "text": [
            "Roderick\n"
          ],
          "name": "stdout"
        }
      ]
    },
    {
      "cell_type": "code",
      "metadata": {
        "id": "VP7XzQqWMRYl",
        "colab_type": "code",
        "colab": {
          "base_uri": "https://localhost:8080/",
          "height": 257
        },
        "outputId": "141efd39-8440-4718-a5c6-dda68abaa673"
      },
      "source": [
        "# 1. Define variables:\n",
        "C = input('Temperature in Celcius: ')\n",
        "\n",
        "# 2. Write equation:\n",
        "F=C*(9/5)+32\n",
        "\n",
        "# 3. Print solution:\n",
        "print(F)"
      ],
      "execution_count": 98,
      "outputs": [
        {
          "output_type": "stream",
          "text": [
            "Temperature in Celcius: 20\n"
          ],
          "name": "stdout"
        },
        {
          "output_type": "error",
          "ename": "TypeError",
          "evalue": "ignored",
          "traceback": [
            "\u001b[0;31m---------------------------------------------------------------------------\u001b[0m",
            "\u001b[0;31mTypeError\u001b[0m                                 Traceback (most recent call last)",
            "\u001b[0;32m<ipython-input-98-80d1fbdb49bc>\u001b[0m in \u001b[0;36m<module>\u001b[0;34m()\u001b[0m\n\u001b[1;32m      3\u001b[0m \u001b[0;34m\u001b[0m\u001b[0m\n\u001b[1;32m      4\u001b[0m \u001b[0;31m# 2. Write equation:\u001b[0m\u001b[0;34m\u001b[0m\u001b[0;34m\u001b[0m\u001b[0;34m\u001b[0m\u001b[0m\n\u001b[0;32m----> 5\u001b[0;31m \u001b[0mF\u001b[0m\u001b[0;34m=\u001b[0m\u001b[0mC\u001b[0m\u001b[0;34m*\u001b[0m\u001b[0;34m(\u001b[0m\u001b[0;36m9\u001b[0m\u001b[0;34m/\u001b[0m\u001b[0;36m5\u001b[0m\u001b[0;34m)\u001b[0m\u001b[0;34m+\u001b[0m\u001b[0;36m32\u001b[0m\u001b[0;34m\u001b[0m\u001b[0;34m\u001b[0m\u001b[0m\n\u001b[0m\u001b[1;32m      6\u001b[0m \u001b[0;34m\u001b[0m\u001b[0m\n\u001b[1;32m      7\u001b[0m \u001b[0;31m# 3. Print solution:\u001b[0m\u001b[0;34m\u001b[0m\u001b[0;34m\u001b[0m\u001b[0;34m\u001b[0m\u001b[0m\n",
            "\u001b[0;31mTypeError\u001b[0m: can't multiply sequence by non-int of type 'float'"
          ]
        }
      ]
    },
    {
      "cell_type": "code",
      "metadata": {
        "id": "AE6sZyu4sRvk",
        "colab_type": "code",
        "colab": {
          "base_uri": "https://localhost:8080/",
          "height": 35
        },
        "outputId": "b813691e-4cfd-4b3f-f7ec-bbe6fb2469d6"
      },
      "source": [
        "type(C)"
      ],
      "execution_count": 100,
      "outputs": [
        {
          "output_type": "execute_result",
          "data": {
            "text/plain": [
              "str"
            ]
          },
          "metadata": {
            "tags": []
          },
          "execution_count": 100
        }
      ]
    },
    {
      "cell_type": "markdown",
      "metadata": {
        "id": "SPZvKITEM1VF",
        "colab_type": "text"
      },
      "source": [
        "The variable storage from the input function is a **STRING** by *default*!"
      ]
    },
    {
      "cell_type": "code",
      "metadata": {
        "id": "2oharkY6Mvkc",
        "colab_type": "code",
        "colab": {}
      },
      "source": [
        "C = float(C)"
      ],
      "execution_count": 104,
      "outputs": []
    },
    {
      "cell_type": "code",
      "metadata": {
        "id": "2TT2trJJNEDu",
        "colab_type": "code",
        "colab": {
          "base_uri": "https://localhost:8080/",
          "height": 35
        },
        "outputId": "bc95c6d4-f979-45e1-9326-b916b3205c4c"
      },
      "source": [
        "type(C)"
      ],
      "execution_count": 105,
      "outputs": [
        {
          "output_type": "execute_result",
          "data": {
            "text/plain": [
              "float"
            ]
          },
          "metadata": {
            "tags": []
          },
          "execution_count": 105
        }
      ]
    },
    {
      "cell_type": "code",
      "metadata": {
        "id": "8uDdpJAzNH3x",
        "colab_type": "code",
        "colab": {
          "base_uri": "https://localhost:8080/",
          "height": 52
        },
        "outputId": "e00207ca-34a2-4e3d-d678-b110562515d9"
      },
      "source": [
        "# 1. Define variables:\n",
        "C = float(input('Temperature in Celcius: '))\n",
        "\n",
        "# 2. Write equation:\n",
        "F=C*(9/5)+32\n",
        "\n",
        "# 3. Print solution:\n",
        "print(F)"
      ],
      "execution_count": 113,
      "outputs": [
        {
          "output_type": "stream",
          "text": [
            "Temperature in Celcius: 5646\n",
            "10194.800000000001\n"
          ],
          "name": "stdout"
        }
      ]
    },
    {
      "cell_type": "code",
      "metadata": {
        "id": "I9vL_z8_NT66",
        "colab_type": "code",
        "colab": {
          "base_uri": "https://localhost:8080/",
          "height": 35
        },
        "outputId": "75bef31e-0d09-43bd-9fa3-ab65f3e409b6"
      },
      "source": [
        "print(F)"
      ],
      "execution_count": 109,
      "outputs": [
        {
          "output_type": "stream",
          "text": [
            "50.0\n"
          ],
          "name": "stdout"
        }
      ]
    },
    {
      "cell_type": "code",
      "metadata": {
        "id": "m2gBTdW-NiHK",
        "colab_type": "code",
        "colab": {
          "base_uri": "https://localhost:8080/",
          "height": 35
        },
        "outputId": "1276a657-5f63-4177-93ea-2c029394feb4"
      },
      "source": [
        "print('The result of 20 C in Farenheit is: ', F)"
      ],
      "execution_count": 111,
      "outputs": [
        {
          "output_type": "stream",
          "text": [
            "The result of 20 C in Farenheit is:  50.0\n"
          ],
          "name": "stdout"
        }
      ]
    },
    {
      "cell_type": "markdown",
      "metadata": {
        "id": "V9543pezN_3O",
        "colab_type": "text"
      },
      "source": [
        "Diana's solution:"
      ]
    },
    {
      "cell_type": "code",
      "metadata": {
        "id": "PQlUA86rNxoD",
        "colab_type": "code",
        "colab": {
          "base_uri": "https://localhost:8080/",
          "height": 52
        },
        "outputId": "183d39de-167f-46d7-af34-07430293c55d"
      },
      "source": [
        "# 1. Define variables:\n",
        "C = float(input('Temperature in Celcius: '))\n",
        "\n",
        "# 2. Write equation:\n",
        "F = C*(9/5) + 32\n",
        "\n",
        "# 3. Print solution:\n",
        "print(f'{C} degrees Celsius are {F} in degrees Fahrenheit')"
      ],
      "execution_count": 114,
      "outputs": [
        {
          "output_type": "stream",
          "text": [
            "Temperature in Celcius: 12\n",
            "12.0 degrees Celsius are 53.6 in degrees Fahrenheit\n"
          ],
          "name": "stdout"
        }
      ]
    },
    {
      "cell_type": "markdown",
      "metadata": {
        "id": "o-50jr_UO66w",
        "colab_type": "text"
      },
      "source": [
        "# DATA STRUCTURE"
      ]
    },
    {
      "cell_type": "markdown",
      "metadata": {
        "id": "kmRvYXsDPX2u",
        "colab_type": "text"
      },
      "source": [
        "The simpliest structure in Python is the **list**.\n",
        "\n",
        "And a list is a collection of data storage in a variable, grouped by `[ ]`, and separated by `,`."
      ]
    },
    {
      "cell_type": "code",
      "metadata": {
        "id": "Zm-X54R3QLLe",
        "colab_type": "code",
        "colab": {}
      },
      "source": [
        "names = ['Alex', 'Diana', ' Joao', 'Jose Reinaldo']"
      ],
      "execution_count": 115,
      "outputs": []
    },
    {
      "cell_type": "code",
      "metadata": {
        "id": "fpIJthFZQeg1",
        "colab_type": "code",
        "colab": {
          "base_uri": "https://localhost:8080/",
          "height": 34
        },
        "outputId": "83e0b95e-0bca-43fb-8d8e-df12df21eb42"
      },
      "source": [
        "type(names)"
      ],
      "execution_count": 116,
      "outputs": [
        {
          "output_type": "execute_result",
          "data": {
            "text/plain": [
              "list"
            ]
          },
          "metadata": {
            "tags": []
          },
          "execution_count": 116
        }
      ]
    },
    {
      "cell_type": "code",
      "metadata": {
        "id": "snnj-f8OQg84",
        "colab_type": "code",
        "colab": {}
      },
      "source": [
        "names_tuple = ('Alex', 'Diana', ' Joao', 'Jose Reinaldo')"
      ],
      "execution_count": 117,
      "outputs": []
    },
    {
      "cell_type": "code",
      "metadata": {
        "id": "C9gwpoSHQnUX",
        "colab_type": "code",
        "colab": {
          "base_uri": "https://localhost:8080/",
          "height": 34
        },
        "outputId": "398f38cc-a73a-478b-9334-b8eb6f91b45f"
      },
      "source": [
        "type(names_tuple)"
      ],
      "execution_count": 118,
      "outputs": [
        {
          "output_type": "execute_result",
          "data": {
            "text/plain": [
              "tuple"
            ]
          },
          "metadata": {
            "tags": []
          },
          "execution_count": 118
        }
      ]
    },
    {
      "cell_type": "markdown",
      "metadata": {
        "id": "GIRRw4ZMQxQH",
        "colab_type": "text"
      },
      "source": [
        "## Indexes"
      ]
    },
    {
      "cell_type": "code",
      "metadata": {
        "id": "-01iGeXUQrfn",
        "colab_type": "code",
        "colab": {
          "base_uri": "https://localhost:8080/",
          "height": 35
        },
        "outputId": "7056db5b-6df5-4d8f-c3fe-a2dca1e59a67"
      },
      "source": [
        "names[0]"
      ],
      "execution_count": 119,
      "outputs": [
        {
          "output_type": "execute_result",
          "data": {
            "application/vnd.google.colaboratory.intrinsic+json": {
              "type": "string"
            },
            "text/plain": [
              "'Alex'"
            ]
          },
          "metadata": {
            "tags": []
          },
          "execution_count": 119
        }
      ]
    },
    {
      "cell_type": "code",
      "metadata": {
        "id": "TO-HW1uuQ7Sd",
        "colab_type": "code",
        "colab": {
          "base_uri": "https://localhost:8080/",
          "height": 35
        },
        "outputId": "f182289f-af56-4fd3-c278-04652bf7355b"
      },
      "source": [
        "names[-1]"
      ],
      "execution_count": 120,
      "outputs": [
        {
          "output_type": "execute_result",
          "data": {
            "application/vnd.google.colaboratory.intrinsic+json": {
              "type": "string"
            },
            "text/plain": [
              "'Jose Reinaldo'"
            ]
          },
          "metadata": {
            "tags": []
          },
          "execution_count": 120
        }
      ]
    },
    {
      "cell_type": "code",
      "metadata": {
        "id": "jjwHmkE-RLsA",
        "colab_type": "code",
        "colab": {
          "base_uri": "https://localhost:8080/",
          "height": 34
        },
        "outputId": "35a63fa6-0738-441a-89a5-ec3ad3e2ef31"
      },
      "source": [
        "len(names)"
      ],
      "execution_count": 121,
      "outputs": [
        {
          "output_type": "execute_result",
          "data": {
            "text/plain": [
              "4"
            ]
          },
          "metadata": {
            "tags": []
          },
          "execution_count": 121
        }
      ]
    },
    {
      "cell_type": "markdown",
      "metadata": {
        "id": "A0rCn1x2RYVG",
        "colab_type": "text"
      },
      "source": [
        "Modify elements in a list:"
      ]
    },
    {
      "cell_type": "code",
      "metadata": {
        "id": "XwAjDrGRRQwO",
        "colab_type": "code",
        "colab": {
          "base_uri": "https://localhost:8080/",
          "height": 34
        },
        "outputId": "177d610d-d250-447b-9a38-2210e2d8ef52"
      },
      "source": [
        "print(names)"
      ],
      "execution_count": 122,
      "outputs": [
        {
          "output_type": "stream",
          "text": [
            "['Alex', 'Diana', ' Joao', 'Jose Reinaldo']\n"
          ],
          "name": "stdout"
        }
      ]
    },
    {
      "cell_type": "code",
      "metadata": {
        "id": "SykM14ugRg7x",
        "colab_type": "code",
        "colab": {}
      },
      "source": [
        "names[2] = 'Enio'"
      ],
      "execution_count": 123,
      "outputs": []
    },
    {
      "cell_type": "code",
      "metadata": {
        "id": "zElNm42WRnDq",
        "colab_type": "code",
        "colab": {
          "base_uri": "https://localhost:8080/",
          "height": 34
        },
        "outputId": "e281f053-b27c-411d-ac13-ce1fa18fcee5"
      },
      "source": [
        "print(names)"
      ],
      "execution_count": 124,
      "outputs": [
        {
          "output_type": "stream",
          "text": [
            "['Alex', 'Diana', 'Enio', 'Jose Reinaldo']\n"
          ],
          "name": "stdout"
        }
      ]
    },
    {
      "cell_type": "markdown",
      "metadata": {
        "id": "1m7DZ6g4Rwt0",
        "colab_type": "text"
      },
      "source": [
        "Delete elements inside our list:"
      ]
    },
    {
      "cell_type": "code",
      "metadata": {
        "id": "AGffpVIqRocV",
        "colab_type": "code",
        "colab": {}
      },
      "source": [
        "del names[-1]"
      ],
      "execution_count": 125,
      "outputs": []
    },
    {
      "cell_type": "code",
      "metadata": {
        "id": "TLXN4XYyR9O_",
        "colab_type": "code",
        "colab": {
          "base_uri": "https://localhost:8080/",
          "height": 34
        },
        "outputId": "1c41469f-d729-47c5-f1c5-73b5393ecdc1"
      },
      "source": [
        "print(names)"
      ],
      "execution_count": 126,
      "outputs": [
        {
          "output_type": "stream",
          "text": [
            "['Alex', 'Diana', 'Enio']\n"
          ],
          "name": "stdout"
        }
      ]
    },
    {
      "cell_type": "markdown",
      "metadata": {
        "id": "eyJm1hJoSDHl",
        "colab_type": "text"
      },
      "source": [
        "Reserve words: Those words that Python used and you CAN'T storage or modify:\n",
        "* del: delete element\n",
        "* def: define functions\n",
        "* print: show value on screen\n",
        "* len: length of a list\n",
        "* ...\n"
      ]
    },
    {
      "cell_type": "code",
      "metadata": {
        "id": "C26NKTXSR-dP",
        "colab_type": "code",
        "colab": {
          "base_uri": "https://localhost:8080/",
          "height": 128
        },
        "outputId": "c680b248-edb7-41b6-e6c4-f9de966f2fb0"
      },
      "source": [
        "del = 2"
      ],
      "execution_count": 127,
      "outputs": [
        {
          "output_type": "error",
          "ename": "SyntaxError",
          "evalue": "ignored",
          "traceback": [
            "\u001b[0;36m  File \u001b[0;32m\"<ipython-input-127-abd2a07c96bd>\"\u001b[0;36m, line \u001b[0;32m1\u001b[0m\n\u001b[0;31m    del = 2\u001b[0m\n\u001b[0m        ^\u001b[0m\n\u001b[0;31mSyntaxError\u001b[0m\u001b[0;31m:\u001b[0m invalid syntax\n"
          ]
        }
      ]
    },
    {
      "cell_type": "code",
      "metadata": {
        "id": "BWhjwWTtSfWQ",
        "colab_type": "code",
        "colab": {}
      },
      "source": [
        "len = 2"
      ],
      "execution_count": 128,
      "outputs": []
    },
    {
      "cell_type": "code",
      "metadata": {
        "id": "mzG8UncSSkLK",
        "colab_type": "code",
        "colab": {
          "base_uri": "https://localhost:8080/",
          "height": 162
        },
        "outputId": "35a55ac9-13f3-4910-d296-d13e72e89bd2"
      },
      "source": [
        "len(2)"
      ],
      "execution_count": 129,
      "outputs": [
        {
          "output_type": "error",
          "ename": "TypeError",
          "evalue": "ignored",
          "traceback": [
            "\u001b[0;31m---------------------------------------------------------------------------\u001b[0m",
            "\u001b[0;31mTypeError\u001b[0m                                 Traceback (most recent call last)",
            "\u001b[0;32m<ipython-input-129-49e19d3e86d2>\u001b[0m in \u001b[0;36m<module>\u001b[0;34m()\u001b[0m\n\u001b[0;32m----> 1\u001b[0;31m \u001b[0mlen\u001b[0m\u001b[0;34m(\u001b[0m\u001b[0;36m2\u001b[0m\u001b[0;34m)\u001b[0m\u001b[0;34m\u001b[0m\u001b[0;34m\u001b[0m\u001b[0m\n\u001b[0m",
            "\u001b[0;31mTypeError\u001b[0m: 'int' object is not callable"
          ]
        }
      ]
    },
    {
      "cell_type": "markdown",
      "metadata": {
        "id": "ATOHDRuLS21O",
        "colab_type": "text"
      },
      "source": [
        "Add an element into a list:\n",
        "```python\n",
        "list_name.append('name_include')\n",
        "```\n",
        "\n",
        "The result of this operation will ADD the element into the LAST position of the list."
      ]
    },
    {
      "cell_type": "code",
      "metadata": {
        "id": "aRNhACgGSmZq",
        "colab_type": "code",
        "colab": {}
      },
      "source": [
        "names.append('Leticia')"
      ],
      "execution_count": 130,
      "outputs": []
    },
    {
      "cell_type": "code",
      "metadata": {
        "id": "rnYHDrb2TKTu",
        "colab_type": "code",
        "colab": {
          "base_uri": "https://localhost:8080/",
          "height": 34
        },
        "outputId": "3bec9e9d-48c8-43a7-8471-010cb642f9ad"
      },
      "source": [
        "print(names)"
      ],
      "execution_count": 131,
      "outputs": [
        {
          "output_type": "stream",
          "text": [
            "['Alex', 'Diana', 'Enio', 'Leticia']\n"
          ],
          "name": "stdout"
        }
      ]
    },
    {
      "cell_type": "markdown",
      "metadata": {
        "id": "yVSzJ3sWTdBO",
        "colab_type": "text"
      },
      "source": [
        "Count:\n",
        "\n",
        "Tell us how many times an element appears in our list:"
      ]
    },
    {
      "cell_type": "code",
      "metadata": {
        "id": "xdRSsr-uTLd2",
        "colab_type": "code",
        "colab": {
          "base_uri": "https://localhost:8080/",
          "height": 34
        },
        "outputId": "b2a048c1-f670-42ec-c0f2-37124df5ce81"
      },
      "source": [
        "names.count('Enio')"
      ],
      "execution_count": 132,
      "outputs": [
        {
          "output_type": "execute_result",
          "data": {
            "text/plain": [
              "1"
            ]
          },
          "metadata": {
            "tags": []
          },
          "execution_count": 132
        }
      ]
    },
    {
      "cell_type": "code",
      "metadata": {
        "id": "vg76NQvcTmTN",
        "colab_type": "code",
        "colab": {
          "base_uri": "https://localhost:8080/",
          "height": 34
        },
        "outputId": "a8ad6c28-1570-4b8e-b545-c734858d0b2d"
      },
      "source": [
        "names.append('Enio')\n",
        "print(names)"
      ],
      "execution_count": 135,
      "outputs": [
        {
          "output_type": "stream",
          "text": [
            "['Alex', 'Diana', 'Enio', 'Leticia', 'Enio', 'Enio']\n"
          ],
          "name": "stdout"
        }
      ]
    },
    {
      "cell_type": "code",
      "metadata": {
        "id": "cSS7JhkqTpJK",
        "colab_type": "code",
        "colab": {
          "base_uri": "https://localhost:8080/",
          "height": 34
        },
        "outputId": "b275decf-aaf2-4b02-b734-716d0db03bf2"
      },
      "source": [
        "names.count('Enio')"
      ],
      "execution_count": 136,
      "outputs": [
        {
          "output_type": "execute_result",
          "data": {
            "text/plain": [
              "3"
            ]
          },
          "metadata": {
            "tags": []
          },
          "execution_count": 136
        }
      ]
    },
    {
      "cell_type": "code",
      "metadata": {
        "id": "EAvh6anUTutx",
        "colab_type": "code",
        "colab": {
          "base_uri": "https://localhost:8080/",
          "height": 34
        },
        "outputId": "00708df0-e17c-4ec3-8312-2a55edb6d38c"
      },
      "source": [
        "names.count('enio')"
      ],
      "execution_count": 137,
      "outputs": [
        {
          "output_type": "execute_result",
          "data": {
            "text/plain": [
              "0"
            ]
          },
          "metadata": {
            "tags": []
          },
          "execution_count": 137
        }
      ]
    },
    {
      "cell_type": "code",
      "metadata": {
        "id": "vR50dZfnUBqL",
        "colab_type": "code",
        "colab": {
          "base_uri": "https://localhost:8080/",
          "height": 34
        },
        "outputId": "44aacff0-e1ec-4001-e095-6e316a25b3b1"
      },
      "source": [
        "names.count('Jose Reinaldo')"
      ],
      "execution_count": 138,
      "outputs": [
        {
          "output_type": "execute_result",
          "data": {
            "text/plain": [
              "0"
            ]
          },
          "metadata": {
            "tags": []
          },
          "execution_count": 138
        }
      ]
    },
    {
      "cell_type": "code",
      "metadata": {
        "id": "i9zupj6tUHL2",
        "colab_type": "code",
        "colab": {}
      },
      "source": [
        "names.append('Jose Reinaldo')"
      ],
      "execution_count": 139,
      "outputs": []
    },
    {
      "cell_type": "code",
      "metadata": {
        "id": "YfUE0gSUUOzX",
        "colab_type": "code",
        "colab": {
          "base_uri": "https://localhost:8080/",
          "height": 34
        },
        "outputId": "060c5c97-214b-42a4-f761-2df1931b635a"
      },
      "source": [
        "print(names)"
      ],
      "execution_count": 140,
      "outputs": [
        {
          "output_type": "stream",
          "text": [
            "['Alex', 'Diana', 'Enio', 'Leticia', 'Enio', 'Enio', 'Jose Reinaldo']\n"
          ],
          "name": "stdout"
        }
      ]
    },
    {
      "cell_type": "markdown",
      "metadata": {
        "id": "ORsA3j1IUT6T",
        "colab_type": "text"
      },
      "source": [
        "Show the index of a specific element in our list:"
      ]
    },
    {
      "cell_type": "code",
      "metadata": {
        "id": "I2_76eBOUQJl",
        "colab_type": "code",
        "colab": {
          "base_uri": "https://localhost:8080/",
          "height": 34
        },
        "outputId": "07d73034-5c20-4e1b-ab2a-99ef74af5b6c"
      },
      "source": [
        "names.index('Jose Reinaldo')"
      ],
      "execution_count": 141,
      "outputs": [
        {
          "output_type": "execute_result",
          "data": {
            "text/plain": [
              "6"
            ]
          },
          "metadata": {
            "tags": []
          },
          "execution_count": 141
        }
      ]
    },
    {
      "cell_type": "code",
      "metadata": {
        "id": "KBIbzZHeUbpQ",
        "colab_type": "code",
        "colab": {
          "base_uri": "https://localhost:8080/",
          "height": 168
        },
        "outputId": "5b458049-8330-4a78-8197-9e60728275ba"
      },
      "source": [
        "names.index('Diego')"
      ],
      "execution_count": 142,
      "outputs": [
        {
          "output_type": "error",
          "ename": "ValueError",
          "evalue": "ignored",
          "traceback": [
            "\u001b[0;31m---------------------------------------------------------------------------\u001b[0m",
            "\u001b[0;31mValueError\u001b[0m                                Traceback (most recent call last)",
            "\u001b[0;32m<ipython-input-142-3af2e7c87dce>\u001b[0m in \u001b[0;36m<module>\u001b[0;34m()\u001b[0m\n\u001b[0;32m----> 1\u001b[0;31m \u001b[0mnames\u001b[0m\u001b[0;34m.\u001b[0m\u001b[0mindex\u001b[0m\u001b[0;34m(\u001b[0m\u001b[0;34m'Diego'\u001b[0m\u001b[0;34m)\u001b[0m\u001b[0;34m\u001b[0m\u001b[0;34m\u001b[0m\u001b[0m\n\u001b[0m",
            "\u001b[0;31mValueError\u001b[0m: 'Diego' is not in list"
          ]
        }
      ]
    },
    {
      "cell_type": "code",
      "metadata": {
        "id": "l-S3ZdKIUlfj",
        "colab_type": "code",
        "colab": {}
      },
      "source": [
        "names.append('Diego')"
      ],
      "execution_count": 143,
      "outputs": []
    },
    {
      "cell_type": "code",
      "metadata": {
        "id": "i27A6DoVUz4n",
        "colab_type": "code",
        "colab": {
          "base_uri": "https://localhost:8080/",
          "height": 35
        },
        "outputId": "521ae8e8-1b22-4e68-e942-7be54428a27d"
      },
      "source": [
        "print(names)"
      ],
      "execution_count": 144,
      "outputs": [
        {
          "output_type": "stream",
          "text": [
            "['Alex', 'Diana', 'Enio', 'Leticia', 'Enio', 'Enio', 'Jose Reinaldo', 'Diego']\n"
          ],
          "name": "stdout"
        }
      ]
    },
    {
      "cell_type": "markdown",
      "metadata": {
        "id": "raS_6wM5UuQ6",
        "colab_type": "text"
      },
      "source": [
        "List Reverse"
      ]
    },
    {
      "cell_type": "code",
      "metadata": {
        "id": "PhxBoyseUtKj",
        "colab_type": "code",
        "colab": {}
      },
      "source": [
        "names.reverse()"
      ],
      "execution_count": 145,
      "outputs": []
    },
    {
      "cell_type": "code",
      "metadata": {
        "id": "rU7RShw3U7UV",
        "colab_type": "code",
        "colab": {
          "base_uri": "https://localhost:8080/",
          "height": 35
        },
        "outputId": "05ad8e60-755e-48b7-e877-3a6ea0a055c6"
      },
      "source": [
        "print(names)"
      ],
      "execution_count": 146,
      "outputs": [
        {
          "output_type": "stream",
          "text": [
            "['Diego', 'Jose Reinaldo', 'Enio', 'Enio', 'Leticia', 'Enio', 'Diana', 'Alex']\n"
          ],
          "name": "stdout"
        }
      ]
    },
    {
      "cell_type": "markdown",
      "metadata": {
        "id": "hSvOFrsVVEdI",
        "colab_type": "text"
      },
      "source": [
        "<font color=red>**WARNING**</font>\n",
        "Notice that when you use the `reverse( )` function, it modify the ORIGINAL list!!!"
      ]
    },
    {
      "cell_type": "code",
      "metadata": {
        "id": "EhduR_8TU-eL",
        "colab_type": "code",
        "colab": {}
      },
      "source": [
        "names.sort()"
      ],
      "execution_count": 147,
      "outputs": []
    },
    {
      "cell_type": "code",
      "metadata": {
        "id": "ZcItX_BmVrEG",
        "colab_type": "code",
        "colab": {
          "base_uri": "https://localhost:8080/",
          "height": 35
        },
        "outputId": "59d1e872-2a75-4ad6-8c98-3a6dbcceea36"
      },
      "source": [
        "print(names)"
      ],
      "execution_count": 148,
      "outputs": [
        {
          "output_type": "stream",
          "text": [
            "['Alex', 'Diana', 'Diego', 'Enio', 'Enio', 'Enio', 'Jose Reinaldo', 'Leticia']\n"
          ],
          "name": "stdout"
        }
      ]
    },
    {
      "cell_type": "code",
      "metadata": {
        "id": "vKZrRwpPVswF",
        "colab_type": "code",
        "colab": {}
      },
      "source": [
        "course_info = names"
      ],
      "execution_count": 149,
      "outputs": []
    },
    {
      "cell_type": "code",
      "metadata": {
        "id": "EJ_5sjk5V_0-",
        "colab_type": "code",
        "colab": {
          "base_uri": "https://localhost:8080/",
          "height": 35
        },
        "outputId": "a930cb59-35a9-49b8-db31-09f3a2d47d92"
      },
      "source": [
        "print(course_info)"
      ],
      "execution_count": 150,
      "outputs": [
        {
          "output_type": "stream",
          "text": [
            "['Alex', 'Diana', 'Diego', 'Enio', 'Enio', 'Enio', 'Jose Reinaldo', 'Leticia']\n"
          ],
          "name": "stdout"
        }
      ]
    },
    {
      "cell_type": "markdown",
      "metadata": {
        "id": "lJ2eLt8HWEpI",
        "colab_type": "text"
      },
      "source": [
        "List not only are useful to storage *strings*, it can store other data structures."
      ]
    },
    {
      "cell_type": "code",
      "metadata": {
        "id": "bgqhjUUzWBSz",
        "colab_type": "code",
        "colab": {}
      },
      "source": [
        "course_info.append(True)"
      ],
      "execution_count": 151,
      "outputs": []
    },
    {
      "cell_type": "code",
      "metadata": {
        "id": "QjltVBk-WT_f",
        "colab_type": "code",
        "colab": {}
      },
      "source": [
        "course_info.append(1.75)"
      ],
      "execution_count": 152,
      "outputs": []
    },
    {
      "cell_type": "code",
      "metadata": {
        "id": "UGVTPpERWXyO",
        "colab_type": "code",
        "colab": {}
      },
      "source": [
        "course_info.append(52)"
      ],
      "execution_count": 153,
      "outputs": []
    },
    {
      "cell_type": "code",
      "metadata": {
        "id": "pewMFosmWZwi",
        "colab_type": "code",
        "colab": {
          "base_uri": "https://localhost:8080/",
          "height": 55
        },
        "outputId": "17636a78-47b3-46d3-b7ba-03f19d1da6bf"
      },
      "source": [
        "print(course_info)"
      ],
      "execution_count": 154,
      "outputs": [
        {
          "output_type": "stream",
          "text": [
            "['Alex', 'Diana', 'Diego', 'Enio', 'Enio', 'Enio', 'Jose Reinaldo', 'Leticia', True, 1.75, 52]\n"
          ],
          "name": "stdout"
        }
      ]
    },
    {
      "cell_type": "code",
      "metadata": {
        "id": "NEt-YZ7cWb9x",
        "colab_type": "code",
        "colab": {
          "base_uri": "https://localhost:8080/",
          "height": 35
        },
        "outputId": "d99eaf2b-b8ef-4b49-982e-f33a3635e7cb"
      },
      "source": [
        "type(course_info)"
      ],
      "execution_count": 155,
      "outputs": [
        {
          "output_type": "execute_result",
          "data": {
            "text/plain": [
              "list"
            ]
          },
          "metadata": {
            "tags": []
          },
          "execution_count": 155
        }
      ]
    },
    {
      "cell_type": "code",
      "metadata": {
        "id": "_W-_j8HtWn51",
        "colab_type": "code",
        "colab": {
          "base_uri": "https://localhost:8080/",
          "height": 35
        },
        "outputId": "d56ea4a0-e24b-4947-94ec-58a152f3ddaf"
      },
      "source": [
        "type(course_info[0])"
      ],
      "execution_count": 156,
      "outputs": [
        {
          "output_type": "execute_result",
          "data": {
            "text/plain": [
              "str"
            ]
          },
          "metadata": {
            "tags": []
          },
          "execution_count": 156
        }
      ]
    },
    {
      "cell_type": "code",
      "metadata": {
        "id": "tmKlDrk0Wu41",
        "colab_type": "code",
        "colab": {
          "base_uri": "https://localhost:8080/",
          "height": 35
        },
        "outputId": "b63440a3-4ce5-42d2-c64a-5e9e4a24b40b"
      },
      "source": [
        "type(course_info[-1])"
      ],
      "execution_count": 157,
      "outputs": [
        {
          "output_type": "execute_result",
          "data": {
            "text/plain": [
              "int"
            ]
          },
          "metadata": {
            "tags": []
          },
          "execution_count": 157
        }
      ]
    },
    {
      "cell_type": "code",
      "metadata": {
        "id": "RfWFTKjJW1ht",
        "colab_type": "code",
        "colab": {
          "base_uri": "https://localhost:8080/",
          "height": 52
        },
        "outputId": "21865ef5-3904-41d4-bf16-a0874170965a"
      },
      "source": [
        "print(type(course_info[-2]))\n",
        "print(type(course_info[-3]))"
      ],
      "execution_count": 159,
      "outputs": [
        {
          "output_type": "stream",
          "text": [
            "<class 'float'>\n",
            "<class 'bool'>\n"
          ],
          "name": "stdout"
        }
      ]
    },
    {
      "cell_type": "code",
      "metadata": {
        "id": "gdeiEBmuW5nv",
        "colab_type": "code",
        "colab": {
          "base_uri": "https://localhost:8080/",
          "height": 168
        },
        "outputId": "91ed0d3c-d0c8-4ef6-dd9a-c0843056b630"
      },
      "source": [
        "course_info.sort()"
      ],
      "execution_count": 160,
      "outputs": [
        {
          "output_type": "error",
          "ename": "TypeError",
          "evalue": "ignored",
          "traceback": [
            "\u001b[0;31m---------------------------------------------------------------------------\u001b[0m",
            "\u001b[0;31mTypeError\u001b[0m                                 Traceback (most recent call last)",
            "\u001b[0;32m<ipython-input-160-36c09bb3a9e1>\u001b[0m in \u001b[0;36m<module>\u001b[0;34m()\u001b[0m\n\u001b[0;32m----> 1\u001b[0;31m \u001b[0mcourse_info\u001b[0m\u001b[0;34m.\u001b[0m\u001b[0msort\u001b[0m\u001b[0;34m(\u001b[0m\u001b[0;34m)\u001b[0m\u001b[0;34m\u001b[0m\u001b[0;34m\u001b[0m\u001b[0m\n\u001b[0m",
            "\u001b[0;31mTypeError\u001b[0m: '<' not supported between instances of 'bool' and 'str'"
          ]
        }
      ]
    },
    {
      "cell_type": "markdown",
      "metadata": {
        "id": "zaCEEHftXNbN",
        "colab_type": "text"
      },
      "source": [
        "It pop an error, since inside of the list the variable *course_info* is storaging several data types, and the funcion `.sort()` only works with the `str` (string) data type."
      ]
    },
    {
      "cell_type": "markdown",
      "metadata": {
        "id": "gvf70p2XXwaE",
        "colab_type": "text"
      },
      "source": [
        "CYCLES STRUCTURES\n",
        "* for \n",
        "* if"
      ]
    },
    {
      "cell_type": "code",
      "metadata": {
        "id": "jKcXfX_VXKpj",
        "colab_type": "code",
        "colab": {
          "base_uri": "https://localhost:8080/",
          "height": 35
        },
        "outputId": "8ade19c8-50ad-43a9-c376-9e859c943cc6"
      },
      "source": [
        "cities = ['Caracas', 'Bogota', 'Sao Paulo', 'Mexico City', 'Santiago']\n",
        "print(cities)"
      ],
      "execution_count": 163,
      "outputs": [
        {
          "output_type": "stream",
          "text": [
            "['Caracas', 'Bogota', 'Sao Paulo', 'Mexico City', 'Santiago']\n"
          ],
          "name": "stdout"
        }
      ]
    },
    {
      "cell_type": "markdown",
      "metadata": {
        "id": "C_1f0KFGYa83",
        "colab_type": "text"
      },
      "source": [
        "The structure of a *for loop* is:\n",
        "\n",
        "```python\n",
        "for auxiliar_variable in list_or_array:\n",
        "    action(auxiliar_variable)\n",
        "```"
      ]
    },
    {
      "cell_type": "code",
      "metadata": {
        "id": "63RK92OWYApA",
        "colab_type": "code",
        "colab": {
          "base_uri": "https://localhost:8080/",
          "height": 106
        },
        "outputId": "b2c01b65-4271-485c-bb8a-8660347d89cb"
      },
      "source": [
        "for city in cities:\n",
        "    print(city)"
      ],
      "execution_count": 170,
      "outputs": [
        {
          "output_type": "stream",
          "text": [
            "Caracas\n",
            "Bogota\n",
            "Sao Paulo\n",
            "Mexico City\n",
            "Santiago\n"
          ],
          "name": "stdout"
        }
      ]
    },
    {
      "cell_type": "code",
      "metadata": {
        "id": "Tc27PXhoZPGY",
        "colab_type": "code",
        "colab": {
          "base_uri": "https://localhost:8080/",
          "height": 36
        },
        "outputId": "7ed111a8-26e1-4aa1-8199-be219669c7c0"
      },
      "source": [
        "city"
      ],
      "execution_count": 171,
      "outputs": [
        {
          "output_type": "execute_result",
          "data": {
            "application/vnd.google.colaboratory.intrinsic+json": {
              "type": "string"
            },
            "text/plain": [
              "'Santiago'"
            ]
          },
          "metadata": {
            "tags": []
          },
          "execution_count": 171
        }
      ]
    },
    {
      "cell_type": "markdown",
      "metadata": {
        "id": "Y7crxnZSZ0l-",
        "colab_type": "text"
      },
      "source": [
        "https://www.python.org/dev/peps/pep-0008/\n"
      ]
    },
    {
      "cell_type": "markdown",
      "metadata": {
        "id": "xAtZL4vuZ62R",
        "colab_type": "text"
      },
      "source": [
        "Range"
      ]
    },
    {
      "cell_type": "code",
      "metadata": {
        "id": "wMk8cybLZoqU",
        "colab_type": "code",
        "colab": {}
      },
      "source": [
        "r = range(4)"
      ],
      "execution_count": 173,
      "outputs": []
    },
    {
      "cell_type": "code",
      "metadata": {
        "id": "VHoDLuueaAhP",
        "colab_type": "code",
        "colab": {
          "base_uri": "https://localhost:8080/",
          "height": 35
        },
        "outputId": "d910e6ca-b5ab-4ed8-c812-7f9018203552"
      },
      "source": [
        "r[0]"
      ],
      "execution_count": 175,
      "outputs": [
        {
          "output_type": "execute_result",
          "data": {
            "text/plain": [
              "0"
            ]
          },
          "metadata": {
            "tags": []
          },
          "execution_count": 175
        }
      ]
    },
    {
      "cell_type": "code",
      "metadata": {
        "id": "-AixSTI5aIRN",
        "colab_type": "code",
        "colab": {
          "base_uri": "https://localhost:8080/",
          "height": 35
        },
        "outputId": "50bd3117-b1c5-4a43-9039-66bd227dc1be"
      },
      "source": [
        "r[-1]"
      ],
      "execution_count": 176,
      "outputs": [
        {
          "output_type": "execute_result",
          "data": {
            "text/plain": [
              "3"
            ]
          },
          "metadata": {
            "tags": []
          },
          "execution_count": 176
        }
      ]
    },
    {
      "cell_type": "code",
      "metadata": {
        "id": "TfhuhRz2aLaq",
        "colab_type": "code",
        "colab": {
          "base_uri": "https://localhost:8080/",
          "height": 168
        },
        "outputId": "bc7225a7-358d-44cb-9400-1d28d55a03ea"
      },
      "source": [
        "len(r)"
      ],
      "execution_count": 177,
      "outputs": [
        {
          "output_type": "error",
          "ename": "TypeError",
          "evalue": "ignored",
          "traceback": [
            "\u001b[0;31m---------------------------------------------------------------------------\u001b[0m",
            "\u001b[0;31mTypeError\u001b[0m                                 Traceback (most recent call last)",
            "\u001b[0;32m<ipython-input-177-b579821321df>\u001b[0m in \u001b[0;36m<module>\u001b[0;34m()\u001b[0m\n\u001b[0;32m----> 1\u001b[0;31m \u001b[0mlen\u001b[0m\u001b[0;34m(\u001b[0m\u001b[0mr\u001b[0m\u001b[0;34m)\u001b[0m\u001b[0;34m\u001b[0m\u001b[0;34m\u001b[0m\u001b[0m\n\u001b[0m",
            "\u001b[0;31mTypeError\u001b[0m: 'int' object is not callable"
          ]
        }
      ]
    },
    {
      "cell_type": "code",
      "metadata": {
        "id": "39XFDw8uaNra",
        "colab_type": "code",
        "colab": {
          "base_uri": "https://localhost:8080/",
          "height": 35
        },
        "outputId": "a457fb2c-279d-4fac-e620-0942ad3c48f0"
      },
      "source": [
        "type(r)"
      ],
      "execution_count": 178,
      "outputs": [
        {
          "output_type": "execute_result",
          "data": {
            "text/plain": [
              "range"
            ]
          },
          "metadata": {
            "tags": []
          },
          "execution_count": 178
        }
      ]
    },
    {
      "cell_type": "code",
      "metadata": {
        "id": "MmKeooTgaVQc",
        "colab_type": "code",
        "colab": {
          "base_uri": "https://localhost:8080/",
          "height": 88
        },
        "outputId": "b0affba1-207d-47f6-87e0-ada65e7f287f"
      },
      "source": [
        "for i in r:\n",
        "    print(i)"
      ],
      "execution_count": 180,
      "outputs": [
        {
          "output_type": "stream",
          "text": [
            "0\n",
            "1\n",
            "2\n",
            "3\n"
          ],
          "name": "stdout"
        }
      ]
    },
    {
      "cell_type": "code",
      "metadata": {
        "id": "djz6IeljaeU1",
        "colab_type": "code",
        "colab": {
          "base_uri": "https://localhost:8080/",
          "height": 35
        },
        "outputId": "10539f72-df55-4d93-f1f0-86bc59584ac6"
      },
      "source": [
        "i"
      ],
      "execution_count": 181,
      "outputs": [
        {
          "output_type": "execute_result",
          "data": {
            "text/plain": [
              "3"
            ]
          },
          "metadata": {
            "tags": []
          },
          "execution_count": 181
        }
      ]
    },
    {
      "cell_type": "markdown",
      "metadata": {
        "id": "QZaFf4Tja5NZ",
        "colab_type": "text"
      },
      "source": [
        "# <font color=magenta>**THE MOST IMPORTANT FUNCTION IN PYTHON**</font>\n",
        "\n",
        "<font color=ORANGE>**HELP**</font>\n",
        "* `help(function_name)`\n",
        "* `function_name?`\n"
      ]
    },
    {
      "cell_type": "code",
      "metadata": {
        "id": "ncFz9uxOarw7",
        "colab_type": "code",
        "colab": {
          "base_uri": "https://localhost:8080/",
          "height": 1457
        },
        "outputId": "c673ea89-7e33-4b26-cc67-169fb163bbb5"
      },
      "source": [
        "help(range)"
      ],
      "execution_count": 182,
      "outputs": [
        {
          "output_type": "stream",
          "text": [
            "Help on class range in module builtins:\n",
            "\n",
            "class range(object)\n",
            " |  range(stop) -> range object\n",
            " |  range(start, stop[, step]) -> range object\n",
            " |  \n",
            " |  Return an object that produces a sequence of integers from start (inclusive)\n",
            " |  to stop (exclusive) by step.  range(i, j) produces i, i+1, i+2, ..., j-1.\n",
            " |  start defaults to 0, and stop is omitted!  range(4) produces 0, 1, 2, 3.\n",
            " |  These are exactly the valid indices for a list of 4 elements.\n",
            " |  When step is given, it specifies the increment (or decrement).\n",
            " |  \n",
            " |  Methods defined here:\n",
            " |  \n",
            " |  __bool__(self, /)\n",
            " |      self != 0\n",
            " |  \n",
            " |  __contains__(self, key, /)\n",
            " |      Return key in self.\n",
            " |  \n",
            " |  __eq__(self, value, /)\n",
            " |      Return self==value.\n",
            " |  \n",
            " |  __ge__(self, value, /)\n",
            " |      Return self>=value.\n",
            " |  \n",
            " |  __getattribute__(self, name, /)\n",
            " |      Return getattr(self, name).\n",
            " |  \n",
            " |  __getitem__(self, key, /)\n",
            " |      Return self[key].\n",
            " |  \n",
            " |  __gt__(self, value, /)\n",
            " |      Return self>value.\n",
            " |  \n",
            " |  __hash__(self, /)\n",
            " |      Return hash(self).\n",
            " |  \n",
            " |  __iter__(self, /)\n",
            " |      Implement iter(self).\n",
            " |  \n",
            " |  __le__(self, value, /)\n",
            " |      Return self<=value.\n",
            " |  \n",
            " |  __len__(self, /)\n",
            " |      Return len(self).\n",
            " |  \n",
            " |  __lt__(self, value, /)\n",
            " |      Return self<value.\n",
            " |  \n",
            " |  __ne__(self, value, /)\n",
            " |      Return self!=value.\n",
            " |  \n",
            " |  __new__(*args, **kwargs) from builtins.type\n",
            " |      Create and return a new object.  See help(type) for accurate signature.\n",
            " |  \n",
            " |  __reduce__(...)\n",
            " |      helper for pickle\n",
            " |  \n",
            " |  __repr__(self, /)\n",
            " |      Return repr(self).\n",
            " |  \n",
            " |  __reversed__(...)\n",
            " |      Return a reverse iterator.\n",
            " |  \n",
            " |  count(...)\n",
            " |      rangeobject.count(value) -> integer -- return number of occurrences of value\n",
            " |  \n",
            " |  index(...)\n",
            " |      rangeobject.index(value, [start, [stop]]) -> integer -- return index of value.\n",
            " |      Raise ValueError if the value is not present.\n",
            " |  \n",
            " |  ----------------------------------------------------------------------\n",
            " |  Data descriptors defined here:\n",
            " |  \n",
            " |  start\n",
            " |  \n",
            " |  step\n",
            " |  \n",
            " |  stop\n",
            "\n"
          ],
          "name": "stdout"
        }
      ]
    },
    {
      "cell_type": "markdown",
      "metadata": {
        "id": "J9G8x9LPcM9y",
        "colab_type": "text"
      },
      "source": [
        "`range(start, stop, step)\n",
        "`"
      ]
    },
    {
      "cell_type": "code",
      "metadata": {
        "id": "tVRPEK3UbgFO",
        "colab_type": "code",
        "colab": {}
      },
      "source": [
        "r = range(10,20, 2)"
      ],
      "execution_count": 188,
      "outputs": []
    },
    {
      "cell_type": "code",
      "metadata": {
        "id": "ulw34jskby4X",
        "colab_type": "code",
        "colab": {
          "base_uri": "https://localhost:8080/",
          "height": 106
        },
        "outputId": "dd331b3c-1bc1-4a66-b776-a06c3b399a77"
      },
      "source": [
        "for i in r:\n",
        "    print(i)"
      ],
      "execution_count": 189,
      "outputs": [
        {
          "output_type": "stream",
          "text": [
            "10\n",
            "12\n",
            "14\n",
            "16\n",
            "18\n"
          ],
          "name": "stdout"
        }
      ]
    },
    {
      "cell_type": "code",
      "metadata": {
        "id": "0GEqFSleb5SQ",
        "colab_type": "code",
        "colab": {}
      },
      "source": [
        "range?"
      ],
      "execution_count": 190,
      "outputs": []
    },
    {
      "cell_type": "markdown",
      "metadata": {
        "id": "knX4bArfcqRK",
        "colab_type": "text"
      },
      "source": [
        "## IF Cycle"
      ]
    },
    {
      "cell_type": "markdown",
      "metadata": {
        "id": "i9iMjA5ecwIq",
        "colab_type": "text"
      },
      "source": [
        "Conditional statement\n",
        "* EQUAL `==`\n",
        "* NOT equal `!=`\n",
        "* Greater than `>`\n",
        "* Less than `<`\n",
        "* Greater equal than `>=`\n",
        "* Less equal than `<=`"
      ]
    },
    {
      "cell_type": "markdown",
      "metadata": {
        "id": "SSr1jEwsdgW2",
        "colab_type": "text"
      },
      "source": [
        "```python\n",
        "if <condition>:\n",
        "    <action>\n",
        "```"
      ]
    },
    {
      "cell_type": "code",
      "metadata": {
        "id": "08mMiYzPfwGf",
        "colab_type": "code",
        "colab": {
          "base_uri": "https://localhost:8080/",
          "height": 35
        },
        "outputId": "1e3552a1-ba0d-4f2c-bc1f-746aaa6d2cda"
      },
      "source": [
        "values = [0, 1, 2, 3, 4]\n",
        "\n",
        "for value in values:\n",
        "    if value == 2:\n",
        "        print('The value is 2')"
      ],
      "execution_count": 194,
      "outputs": [
        {
          "output_type": "stream",
          "text": [
            "The value is 2\n"
          ],
          "name": "stdout"
        }
      ]
    },
    {
      "cell_type": "markdown",
      "metadata": {
        "id": "DF1g-363gJGX",
        "colab_type": "text"
      },
      "source": [
        "```python\n",
        "if <condition>:\n",
        "    <action 1>\n",
        "else:\n",
        "    <action 2>\n",
        "```"
      ]
    },
    {
      "cell_type": "code",
      "metadata": {
        "id": "S8yaaVeBf_Zy",
        "colab_type": "code",
        "colab": {
          "base_uri": "https://localhost:8080/",
          "height": 106
        },
        "outputId": "d2770647-e4ef-4f5b-8b8a-4b7c6c0172b5"
      },
      "source": [
        "values = [0, 1, 2, 3, 4]\n",
        "\n",
        "for value in values:\n",
        "    if value == 2:\n",
        "        print('The value is 2')\n",
        "    else:\n",
        "        print('Is not equal to 2')"
      ],
      "execution_count": 195,
      "outputs": [
        {
          "output_type": "stream",
          "text": [
            "Is not equal to 2\n",
            "Is not equal to 2\n",
            "The value is 2\n",
            "Is not equal to 2\n",
            "Is not equal to 2\n"
          ],
          "name": "stdout"
        }
      ]
    },
    {
      "cell_type": "markdown",
      "metadata": {
        "id": "Y7F7_2Ftgfkd",
        "colab_type": "text"
      },
      "source": [
        "```python\n",
        "if <condition 1>:\n",
        "    <action 1>\n",
        "elif <condition 2>:\n",
        "    <action 2>\n",
        "else:\n",
        "    <action 3>\n",
        "```"
      ]
    },
    {
      "cell_type": "code",
      "metadata": {
        "id": "486nLyk4gVDw",
        "colab_type": "code",
        "colab": {
          "base_uri": "https://localhost:8080/",
          "height": 106
        },
        "outputId": "28859775-898c-4cd8-822d-2b13c6063974"
      },
      "source": [
        "values = [0, 1, 2, 3, 4]\n",
        "\n",
        "for value in values:\n",
        "    if value == 2:\n",
        "        print('The value is 2')\n",
        "    elif value > 3:\n",
        "        print('The value is greater than 3')\n",
        "    else:\n",
        "        print('Is not equal to 2 and not greater than 3')"
      ],
      "execution_count": 197,
      "outputs": [
        {
          "output_type": "stream",
          "text": [
            "Is not equal to 2 and not greater than 3\n",
            "Is not equal to 2 and not greater than 3\n",
            "The value is 2\n",
            "Is not equal to 2 and not greater than 3\n",
            "The value is greater than 3\n"
          ],
          "name": "stdout"
        }
      ]
    },
    {
      "cell_type": "markdown",
      "metadata": {
        "id": "Qy8kl7DvhOd6",
        "colab_type": "text"
      },
      "source": [
        "Multiple condition statement:\n",
        "\n",
        "```python\n",
        "if (condition1 and/or condition2) and/or (condition3 and/or condition4):\n",
        "    <action 1>\n",
        "else:\n",
        "    <condition 2>\n",
        "```"
      ]
    },
    {
      "cell_type": "code",
      "metadata": {
        "id": "gettZdKAg_Od",
        "colab_type": "code",
        "colab": {
          "base_uri": "https://localhost:8080/",
          "height": 212
        },
        "outputId": "f75d4664-1d8e-47c4-cd85-a28e68ffe76f"
      },
      "source": [
        "values = [0, 1, 2, 3, 4, 5, 6, 7, 8, 9, 10]\n",
        "\n",
        "for value in values:\n",
        "    if (value> 5 and value<= 10):\n",
        "        print('The value is range, between 5 and 10')\n",
        "    else:\n",
        "        print('Is not range')"
      ],
      "execution_count": 202,
      "outputs": [
        {
          "output_type": "stream",
          "text": [
            "Is not range\n",
            "Is not range\n",
            "Is not range\n",
            "Is not range\n",
            "Is not range\n",
            "Is not range\n",
            "The value is range, between 5 and 10\n",
            "The value is range, between 5 and 10\n",
            "The value is range, between 5 and 10\n",
            "The value is range, between 5 and 10\n",
            "The value is range, between 5 and 10\n"
          ],
          "name": "stdout"
        }
      ]
    },
    {
      "cell_type": "code",
      "metadata": {
        "id": "82mQvwfJiAoX",
        "colab_type": "code",
        "colab": {
          "base_uri": "https://localhost:8080/",
          "height": 212
        },
        "outputId": "7eff4ce8-792d-4e19-f759-a0a48589f742"
      },
      "source": [
        "values = [0, 1, 2, 3, 4, 5, 6, 7, 8, 9, 10]\n",
        "\n",
        "for value in values:\n",
        "    if (value== 5 or value == 10):\n",
        "        print('The value is equal to 5 or 10')\n",
        "    else:\n",
        "        print('Is not equal to 5 or 10')"
      ],
      "execution_count": 203,
      "outputs": [
        {
          "output_type": "stream",
          "text": [
            "Is not equal to 5 or 10\n",
            "Is not equal to 5 or 10\n",
            "Is not equal to 5 or 10\n",
            "Is not equal to 5 or 10\n",
            "Is not equal to 5 or 10\n",
            "The value is equal to 5 or 10\n",
            "Is not equal to 5 or 10\n",
            "Is not equal to 5 or 10\n",
            "Is not equal to 5 or 10\n",
            "Is not equal to 5 or 10\n",
            "The value is equal to 5 or 10\n"
          ],
          "name": "stdout"
        }
      ]
    },
    {
      "cell_type": "markdown",
      "metadata": {
        "id": "dVCWF5UFi3uB",
        "colab_type": "text"
      },
      "source": [
        "## DEFINE FUNCTIONS"
      ]
    },
    {
      "cell_type": "markdown",
      "metadata": {
        "id": "YRgCzcWwi6WN",
        "colab_type": "text"
      },
      "source": [
        "Function is a piece of code that we can write once, and then we can replicate it (or call it) many times inside of our script.\n",
        "\n",
        "1. First, define the *Function*:\n",
        "```python\n",
        "def function_name(variable1, variable2):\n",
        "    operation = variable1 + variable2\n",
        "    return operation\n",
        "```\n",
        "\n",
        "2. Call the previously define function:\n",
        "```python\n",
        "function_name(variable1, variable2)\n",
        "```"
      ]
    },
    {
      "cell_type": "code",
      "metadata": {
        "id": "FgJAnaflkCrp",
        "colab_type": "code",
        "colab": {}
      },
      "source": [
        "# Define the function\n",
        "def celcius_to_farenheit(C):\n",
        "    F=C*(9/5)+32\n",
        "    return print(F)"
      ],
      "execution_count": 204,
      "outputs": []
    },
    {
      "cell_type": "code",
      "metadata": {
        "id": "d-yGRPlykVO2",
        "colab_type": "code",
        "colab": {
          "base_uri": "https://localhost:8080/",
          "height": 35
        },
        "outputId": "fab41f6f-6c01-4638-d156-bb96e268e5ba"
      },
      "source": [
        "celcius_to_farenheit(20)"
      ],
      "execution_count": 208,
      "outputs": [
        {
          "output_type": "execute_result",
          "data": {
            "text/plain": [
              "68.0"
            ]
          },
          "metadata": {
            "tags": []
          },
          "execution_count": 208
        }
      ]
    },
    {
      "cell_type": "markdown",
      "metadata": {
        "id": "i4PmyVR4m-Fq",
        "colab_type": "text"
      },
      "source": [
        "## Load Function from external files\n",
        "\n",
        "```python\n",
        "from file_name import function_name\n",
        "```"
      ]
    },
    {
      "cell_type": "code",
      "metadata": {
        "id": "gu50QIcvn51D",
        "colab_type": "code",
        "colab": {}
      },
      "source": [
        ""
      ],
      "execution_count": null,
      "outputs": []
    },
    {
      "cell_type": "code",
      "metadata": {
        "id": "vqjvQv6skrTk",
        "colab_type": "code",
        "colab": {}
      },
      "source": [
        "from celcius_to_farenheit_FILE import celcius_to_farenheit_FUNCTION"
      ],
      "execution_count": 209,
      "outputs": []
    },
    {
      "cell_type": "code",
      "metadata": {
        "id": "br5UHHzAn96-",
        "colab_type": "code",
        "colab": {
          "base_uri": "https://localhost:8080/",
          "height": 35
        },
        "outputId": "d0976344-7bfd-49ff-c892-68a1047f0d86"
      },
      "source": [
        "celcius_to_farenheit_FUNCTION(20)"
      ],
      "execution_count": 210,
      "outputs": [
        {
          "output_type": "stream",
          "text": [
            "68.0\n"
          ],
          "name": "stdout"
        }
      ]
    },
    {
      "cell_type": "markdown",
      "metadata": {
        "id": "WZB5AfWTpsAo",
        "colab_type": "text"
      },
      "source": [
        "Load one specific function inside a library (function file):"
      ]
    },
    {
      "cell_type": "code",
      "metadata": {
        "id": "y84pCTjPoCdO",
        "colab_type": "code",
        "colab": {}
      },
      "source": [
        "from functions_FILE import celsius_to_fahr"
      ],
      "execution_count": 211,
      "outputs": []
    },
    {
      "cell_type": "code",
      "metadata": {
        "id": "VM1k2dSdpmO1",
        "colab_type": "code",
        "colab": {
          "base_uri": "https://localhost:8080/",
          "height": 35
        },
        "outputId": "df9e7809-dff5-409c-e42d-b2089c8cc288"
      },
      "source": [
        "celsius_to_fahr(20)"
      ],
      "execution_count": 212,
      "outputs": [
        {
          "output_type": "execute_result",
          "data": {
            "text/plain": [
              "68.0"
            ]
          },
          "metadata": {
            "tags": []
          },
          "execution_count": 212
        }
      ]
    },
    {
      "cell_type": "markdown",
      "metadata": {
        "id": "wgpHQuTKpyNT",
        "colab_type": "text"
      },
      "source": [
        "Load **ALL** function inside a library:"
      ]
    },
    {
      "cell_type": "code",
      "metadata": {
        "id": "RXL-X6mzpnlx",
        "colab_type": "code",
        "colab": {}
      },
      "source": [
        "from functions_FILE import *"
      ],
      "execution_count": 213,
      "outputs": []
    },
    {
      "cell_type": "code",
      "metadata": {
        "id": "Yp4axxt1p79k",
        "colab_type": "code",
        "colab": {
          "base_uri": "https://localhost:8080/",
          "height": 35
        },
        "outputId": "56b12901-8483-4c54-bf89-752400af9ab2"
      },
      "source": [
        "kelvins_to_celsius(45)"
      ],
      "execution_count": 214,
      "outputs": [
        {
          "output_type": "execute_result",
          "data": {
            "text/plain": [
              "-228.14999999999998"
            ]
          },
          "metadata": {
            "tags": []
          },
          "execution_count": 214
        }
      ]
    },
    {
      "cell_type": "markdown",
      "metadata": {
        "id": "nlO_ddvlqX73",
        "colab_type": "text"
      },
      "source": [
        "## Functions with comments:"
      ]
    },
    {
      "cell_type": "code",
      "metadata": {
        "id": "WvRvICUrqCZO",
        "colab_type": "code",
        "colab": {}
      },
      "source": [
        "# Define the function (with comments)\n",
        "def celcius_to_farenheit(C):\n",
        "    \"\"\"\n",
        "    Author: Roderick Perez\n",
        "    Date: August, 17th, 2020\n",
        "    This function calculate the farenheit degrees \n",
        "    Params:\n",
        "    - C is the temperature in Celcius\n",
        "    Out\n",
        "    - F degrees\n",
        "    \"\"\"\n",
        "    F=C*(9/5)+32\n",
        "    return print(F)"
      ],
      "execution_count": 215,
      "outputs": []
    },
    {
      "cell_type": "code",
      "metadata": {
        "id": "tsLoVF90q24H",
        "colab_type": "code",
        "colab": {
          "base_uri": "https://localhost:8080/",
          "height": 35
        },
        "outputId": "016cf189-f0ad-4257-81ee-ac23e40eb287"
      },
      "source": [
        "celcius_to_farenheit(20)"
      ],
      "execution_count": 216,
      "outputs": [
        {
          "output_type": "stream",
          "text": [
            "68.0\n"
          ],
          "name": "stdout"
        }
      ]
    },
    {
      "cell_type": "code",
      "metadata": {
        "id": "MFuNr7T3q5oF",
        "colab_type": "code",
        "colab": {
          "base_uri": "https://localhost:8080/",
          "height": 212
        },
        "outputId": "60041785-aae4-4b6e-86cf-9a3fd4f3312b"
      },
      "source": [
        "help(celcius_to_farenheit)"
      ],
      "execution_count": 217,
      "outputs": [
        {
          "output_type": "stream",
          "text": [
            "Help on function celcius_to_farenheit in module __main__:\n",
            "\n",
            "celcius_to_farenheit(C)\n",
            "    Author: Roderick Perez\n",
            "    Date: August, 17th, 2020\n",
            "    This function calculate the farenheit degrees \n",
            "    Params:\n",
            "    - C is the temperature in Celcius\n",
            "    Out\n",
            "    - F degrees\n",
            "\n"
          ],
          "name": "stdout"
        }
      ]
    },
    {
      "cell_type": "code",
      "metadata": {
        "id": "ngjjUBFrq8Ku",
        "colab_type": "code",
        "colab": {}
      },
      "source": [
        "celcius_to_farenheit?"
      ],
      "execution_count": 218,
      "outputs": []
    },
    {
      "cell_type": "code",
      "metadata": {
        "id": "o3gLIUsWrDU1",
        "colab_type": "code",
        "colab": {}
      },
      "source": [
        "from functions_comments_FILE import *"
      ],
      "execution_count": 219,
      "outputs": []
    },
    {
      "cell_type": "code",
      "metadata": {
        "id": "VHN4esc7ruza",
        "colab_type": "code",
        "colab": {
          "base_uri": "https://localhost:8080/",
          "height": 35
        },
        "outputId": "cb3f06ae-571c-42ef-d2af-d100a2d352a4"
      },
      "source": [
        "celsius_to_fahr(20)"
      ],
      "execution_count": 220,
      "outputs": [
        {
          "output_type": "execute_result",
          "data": {
            "text/plain": [
              "68.0"
            ]
          },
          "metadata": {
            "tags": []
          },
          "execution_count": 220
        }
      ]
    },
    {
      "cell_type": "code",
      "metadata": {
        "id": "pO8mvT9Br7i-",
        "colab_type": "code",
        "colab": {}
      },
      "source": [
        "celsius_to_fahr?"
      ],
      "execution_count": 221,
      "outputs": []
    },
    {
      "cell_type": "markdown",
      "metadata": {
        "id": "x8S-uu70s0Wg",
        "colab_type": "text"
      },
      "source": [
        "# Import other libraries from **pip**:\n"
      ]
    },
    {
      "cell_type": "code",
      "metadata": {
        "id": "HHZXnwzgtKzq",
        "colab_type": "code",
        "colab": {}
      },
      "source": [
        "import matplotlib.pyplot"
      ],
      "execution_count": 222,
      "outputs": []
    },
    {
      "cell_type": "markdown",
      "metadata": {
        "id": "8tNsiiz5tXi6",
        "colab_type": "text"
      },
      "source": [
        "Let's define $x$ and $y$:"
      ]
    },
    {
      "cell_type": "code",
      "metadata": {
        "id": "xiKysZxrtcdU",
        "colab_type": "code",
        "colab": {}
      },
      "source": [
        "x = [1, 4]\n",
        "y = [6, 2]"
      ],
      "execution_count": 223,
      "outputs": []
    },
    {
      "cell_type": "code",
      "metadata": {
        "id": "v2paAEAfr91O",
        "colab_type": "code",
        "colab": {
          "base_uri": "https://localhost:8080/",
          "height": 283
        },
        "outputId": "278bfe31-7aea-4426-f1af-d8e11c1ca576"
      },
      "source": [
        "matplotlib.pyplot.plot(x, y)"
      ],
      "execution_count": 224,
      "outputs": [
        {
          "output_type": "execute_result",
          "data": {
            "text/plain": [
              "[<matplotlib.lines.Line2D at 0x7fa7a74c5eb8>]"
            ]
          },
          "metadata": {
            "tags": []
          },
          "execution_count": 224
        },
        {
          "output_type": "display_data",
          "data": {
            "image/png": "[encoded data removed]",
            "text/plain": [
              "<Figure size 432x288 with 1 Axes>"
            ]
          },
          "metadata": {
            "tags": [],
            "needs_background": "light"
          }
        }
      ]
    },
    {
      "cell_type": "code",
      "metadata": {
        "id": "o7f6fAYOtn2v",
        "colab_type": "code",
        "colab": {
          "base_uri": "https://localhost:8080/",
          "height": 283
        },
        "outputId": "30fb4c79-e764-4b13-89cf-9a5e293f4668"
      },
      "source": [
        "#######\n",
        "import matplotlib.pyplot as plt\n",
        "x = [1, 4]\n",
        "y = [6, 2]\n",
        "plt.plot(x, y)"
      ],
      "execution_count": 227,
      "outputs": [
        {
          "output_type": "execute_result",
          "data": {
            "text/plain": [
              "[<matplotlib.lines.Line2D at 0x7fa7a6eeafd0>]"
            ]
          },
          "metadata": {
            "tags": []
          },
          "execution_count": 227
        },
        {
          "output_type": "display_data",
          "data": {
            "image/png": "[encoded data removed]",
            "text/plain": [
              "<Figure size 432x288 with 1 Axes>"
            ]
          },
          "metadata": {
            "tags": [],
            "needs_background": "light"
          }
        }
      ]
    },
    {
      "cell_type": "markdown",
      "metadata": {
        "id": "UI-j3HuAubL8",
        "colab_type": "text"
      },
      "source": [
        "# NUMPY\n",
        "Numerical Python. It allow us to work with **ARRAYS**."
      ]
    },
    {
      "cell_type": "code",
      "metadata": {
        "id": "1JwhCMD1uDv5",
        "colab_type": "code",
        "colab": {
          "base_uri": "https://localhost:8080/",
          "height": 35
        },
        "outputId": "c866a21c-b892-4964-dcdf-0e1362f8aadc"
      },
      "source": [
        "!pip install numpy"
      ],
      "execution_count": 228,
      "outputs": [
        {
          "output_type": "stream",
          "text": [
            "Requirement already satisfied: numpy in /usr/local/lib/python3.6/dist-packages (1.18.5)\n"
          ],
          "name": "stdout"
        }
      ]
    },
    {
      "cell_type": "code",
      "metadata": {
        "id": "O6oFpHctuuRs",
        "colab_type": "code",
        "colab": {}
      },
      "source": [
        "# IMPORT modules / libraries\n",
        "import numpy as np"
      ],
      "execution_count": 229,
      "outputs": []
    },
    {
      "cell_type": "markdown",
      "metadata": {
        "id": "xQwcggj6u7Iy",
        "colab_type": "text"
      },
      "source": [
        "Array of zeros"
      ]
    },
    {
      "cell_type": "code",
      "metadata": {
        "id": "Zr9RGdTtu-yH",
        "colab_type": "code",
        "colab": {}
      },
      "source": [
        "zeros_array = np.zeros(10)"
      ],
      "execution_count": 230,
      "outputs": []
    },
    {
      "cell_type": "code",
      "metadata": {
        "id": "rYEmEhL8vHQQ",
        "colab_type": "code",
        "colab": {
          "base_uri": "https://localhost:8080/",
          "height": 35
        },
        "outputId": "c3314adc-e9cb-46b3-ddf0-51fca91aaef1"
      },
      "source": [
        "print(zeros_array)"
      ],
      "execution_count": 231,
      "outputs": [
        {
          "output_type": "stream",
          "text": [
            "[0. 0. 0. 0. 0. 0. 0. 0. 0. 0.]\n"
          ],
          "name": "stdout"
        }
      ]
    },
    {
      "cell_type": "code",
      "metadata": {
        "id": "3aVh3JkSvIxC",
        "colab_type": "code",
        "colab": {
          "base_uri": "https://localhost:8080/",
          "height": 35
        },
        "outputId": "16ead1a0-0a79-4d0a-9ed3-64069a1d276d"
      },
      "source": [
        "type(zeros_array)"
      ],
      "execution_count": 232,
      "outputs": [
        {
          "output_type": "execute_result",
          "data": {
            "text/plain": [
              "numpy.ndarray"
            ]
          },
          "metadata": {
            "tags": []
          },
          "execution_count": 232
        }
      ]
    },
    {
      "cell_type": "code",
      "metadata": {
        "id": "y82tMiIRvNrj",
        "colab_type": "code",
        "colab": {
          "base_uri": "https://localhost:8080/",
          "height": 35
        },
        "outputId": "094bda58-36f3-4bc7-f5eb-0ab032e39306"
      },
      "source": [
        "type(zeros_array[0])"
      ],
      "execution_count": 233,
      "outputs": [
        {
          "output_type": "execute_result",
          "data": {
            "text/plain": [
              "numpy.float64"
            ]
          },
          "metadata": {
            "tags": []
          },
          "execution_count": 233
        }
      ]
    },
    {
      "cell_type": "markdown",
      "metadata": {
        "id": "G1AT11ZXvzx2",
        "colab_type": "text"
      },
      "source": [
        "We can check the dimension of our array:"
      ]
    },
    {
      "cell_type": "code",
      "metadata": {
        "id": "h3_Gn9uXvY_K",
        "colab_type": "code",
        "colab": {
          "base_uri": "https://localhost:8080/",
          "height": 35
        },
        "outputId": "bee4441c-fef7-431c-e249-c00251cf1f97"
      },
      "source": [
        "zeros_array.shape"
      ],
      "execution_count": 234,
      "outputs": [
        {
          "output_type": "execute_result",
          "data": {
            "text/plain": [
              "(10,)"
            ]
          },
          "metadata": {
            "tags": []
          },
          "execution_count": 234
        }
      ]
    },
    {
      "cell_type": "markdown",
      "metadata": {
        "id": "XYswxOkmwBKD",
        "colab_type": "text"
      },
      "source": [
        "We can change the shape of our array:"
      ]
    },
    {
      "cell_type": "code",
      "metadata": {
        "id": "hC592Qpfv6xB",
        "colab_type": "code",
        "colab": {}
      },
      "source": [
        "zeros_array.shape = (10, 1)"
      ],
      "execution_count": 235,
      "outputs": []
    },
    {
      "cell_type": "code",
      "metadata": {
        "id": "j0mwaR-dwJHt",
        "colab_type": "code",
        "colab": {
          "base_uri": "https://localhost:8080/",
          "height": 35
        },
        "outputId": "88b8c885-8efe-4085-eb5b-7ed7f8f3a08c"
      },
      "source": [
        "zeros_array.shape"
      ],
      "execution_count": 236,
      "outputs": [
        {
          "output_type": "execute_result",
          "data": {
            "text/plain": [
              "(10, 1)"
            ]
          },
          "metadata": {
            "tags": []
          },
          "execution_count": 236
        }
      ]
    },
    {
      "cell_type": "markdown",
      "metadata": {
        "id": "SfFSqCPqwTXG",
        "colab_type": "text"
      },
      "source": [
        "ONES array"
      ]
    },
    {
      "cell_type": "code",
      "metadata": {
        "id": "5kmRQTxdwMFs",
        "colab_type": "code",
        "colab": {
          "base_uri": "https://localhost:8080/",
          "height": 52
        },
        "outputId": "f2008449-29b8-4322-c7fd-f3851b352038"
      },
      "source": [
        "ones_array = np.ones(10)\n",
        "print(ones_array)\n",
        "print(ones_array.shape)"
      ],
      "execution_count": 238,
      "outputs": [
        {
          "output_type": "stream",
          "text": [
            "[1. 1. 1. 1. 1. 1. 1. 1. 1. 1.]\n",
            "(10,)\n"
          ],
          "name": "stdout"
        }
      ]
    },
    {
      "cell_type": "markdown",
      "metadata": {
        "id": "e3PQRN2Bwyor",
        "colab_type": "text"
      },
      "source": [
        "EMPTY array:"
      ]
    },
    {
      "cell_type": "code",
      "metadata": {
        "id": "lWu1qSQ-xBpw",
        "colab_type": "code",
        "colab": {
          "base_uri": "https://localhost:8080/",
          "height": 35
        },
        "outputId": "7615cd81-4d8b-440d-8c4e-404b51ff8710"
      },
      "source": [
        "np.empty(3)"
      ],
      "execution_count": 242,
      "outputs": [
        {
          "output_type": "execute_result",
          "data": {
            "text/plain": [
              "array([3.5e-323, 4.0e-323, 4.4e-323])"
            ]
          },
          "metadata": {
            "tags": []
          },
          "execution_count": 242
        }
      ]
    },
    {
      "cell_type": "code",
      "metadata": {
        "id": "rVQiojK5w6Kf",
        "colab_type": "code",
        "colab": {
          "base_uri": "https://localhost:8080/",
          "height": 52
        },
        "outputId": "58348725-2776-4a08-bb40-57ab7d25603a"
      },
      "source": [
        "empty_array = np.empty(3)\n",
        "print(empty_array)\n",
        "print(empty_array.shape)"
      ],
      "execution_count": 243,
      "outputs": [
        {
          "output_type": "stream",
          "text": [
            "[3.5e-323 4.0e-323 4.4e-323]\n",
            "(3,)\n"
          ],
          "name": "stdout"
        }
      ]
    },
    {
      "cell_type": "markdown",
      "metadata": {
        "id": "9UnahYLpxbv_",
        "colab_type": "text"
      },
      "source": [
        "List of values\n",
        "`linspace()`"
      ]
    },
    {
      "cell_type": "code",
      "metadata": {
        "id": "05U3l6ngxQu_",
        "colab_type": "code",
        "colab": {
          "base_uri": "https://localhost:8080/",
          "height": 35
        },
        "outputId": "d769a9e1-a93b-458f-dfb2-edcf4db5e6fb"
      },
      "source": [
        "r = range(0, 4, 1)\n",
        "print(r)"
      ],
      "execution_count": 245,
      "outputs": [
        {
          "output_type": "stream",
          "text": [
            "range(0, 4)\n"
          ],
          "name": "stdout"
        }
      ]
    },
    {
      "cell_type": "code",
      "metadata": {
        "id": "DC8sbT5YxjyT",
        "colab_type": "code",
        "colab": {
          "base_uri": "https://localhost:8080/",
          "height": 177
        },
        "outputId": "b8170c46-f503-418d-f8fa-7c3bce4b487e"
      },
      "source": [
        "linear_space = np.linspace(1, 10)\n",
        "print(linear_space)"
      ],
      "execution_count": 247,
      "outputs": [
        {
          "output_type": "stream",
          "text": [
            "[ 1.          1.18367347  1.36734694  1.55102041  1.73469388  1.91836735\n",
            "  2.10204082  2.28571429  2.46938776  2.65306122  2.83673469  3.02040816\n",
            "  3.20408163  3.3877551   3.57142857  3.75510204  3.93877551  4.12244898\n",
            "  4.30612245  4.48979592  4.67346939  4.85714286  5.04081633  5.2244898\n",
            "  5.40816327  5.59183673  5.7755102   5.95918367  6.14285714  6.32653061\n",
            "  6.51020408  6.69387755  6.87755102  7.06122449  7.24489796  7.42857143\n",
            "  7.6122449   7.79591837  7.97959184  8.16326531  8.34693878  8.53061224\n",
            "  8.71428571  8.89795918  9.08163265  9.26530612  9.44897959  9.63265306\n",
            "  9.81632653 10.        ]\n"
          ],
          "name": "stdout"
        }
      ]
    },
    {
      "cell_type": "code",
      "metadata": {
        "id": "k0k0YsWIx2zx",
        "colab_type": "code",
        "colab": {
          "base_uri": "https://localhost:8080/",
          "height": 35
        },
        "outputId": "0ead2af7-42d2-4e91-86c2-bdabf919aa2b"
      },
      "source": [
        "linear_space[0]"
      ],
      "execution_count": 248,
      "outputs": [
        {
          "output_type": "execute_result",
          "data": {
            "text/plain": [
              "1.0"
            ]
          },
          "metadata": {
            "tags": []
          },
          "execution_count": 248
        }
      ]
    },
    {
      "cell_type": "code",
      "metadata": {
        "id": "NkVqnjFgx9LF",
        "colab_type": "code",
        "colab": {
          "base_uri": "https://localhost:8080/",
          "height": 35
        },
        "outputId": "b0f05399-cc67-452b-cf46-794b3c531899"
      },
      "source": [
        "linear_space[-1]"
      ],
      "execution_count": 249,
      "outputs": [
        {
          "output_type": "execute_result",
          "data": {
            "text/plain": [
              "10.0"
            ]
          },
          "metadata": {
            "tags": []
          },
          "execution_count": 249
        }
      ]
    },
    {
      "cell_type": "code",
      "metadata": {
        "id": "tQCZAqZDx-0V",
        "colab_type": "code",
        "colab": {
          "base_uri": "https://localhost:8080/",
          "height": 35
        },
        "outputId": "ed23f871-40c1-49b8-90b5-6d00b4f885b6"
      },
      "source": [
        "type(linear_space)"
      ],
      "execution_count": 251,
      "outputs": [
        {
          "output_type": "execute_result",
          "data": {
            "text/plain": [
              "numpy.ndarray"
            ]
          },
          "metadata": {
            "tags": []
          },
          "execution_count": 251
        }
      ]
    },
    {
      "cell_type": "code",
      "metadata": {
        "id": "0K0ZUf_SyB4d",
        "colab_type": "code",
        "colab": {
          "base_uri": "https://localhost:8080/",
          "height": 168
        },
        "outputId": "580b3fb5-a0a4-46f2-a246-7ac5ef13ac47"
      },
      "source": [
        "len(linear_space)"
      ],
      "execution_count": 252,
      "outputs": [
        {
          "output_type": "error",
          "ename": "TypeError",
          "evalue": "ignored",
          "traceback": [
            "\u001b[0;31m---------------------------------------------------------------------------\u001b[0m",
            "\u001b[0;31mTypeError\u001b[0m                                 Traceback (most recent call last)",
            "\u001b[0;32m<ipython-input-252-bbdb4cc4a519>\u001b[0m in \u001b[0;36m<module>\u001b[0;34m()\u001b[0m\n\u001b[0;32m----> 1\u001b[0;31m \u001b[0mlen\u001b[0m\u001b[0;34m(\u001b[0m\u001b[0mlinear_space\u001b[0m\u001b[0;34m)\u001b[0m\u001b[0;34m\u001b[0m\u001b[0;34m\u001b[0m\u001b[0m\n\u001b[0m",
            "\u001b[0;31mTypeError\u001b[0m: 'int' object is not callable"
          ]
        }
      ]
    },
    {
      "cell_type": "code",
      "metadata": {
        "id": "hdckPqyeyJej",
        "colab_type": "code",
        "colab": {}
      },
      "source": [
        "np.linspace?"
      ],
      "execution_count": 253,
      "outputs": []
    },
    {
      "cell_type": "code",
      "metadata": {
        "id": "sJ-eD0lyySsV",
        "colab_type": "code",
        "colab": {
          "base_uri": "https://localhost:8080/",
          "height": 35
        },
        "outputId": "eb0caba0-bb9a-4cd8-ff98-e4d20dae6fac"
      },
      "source": [
        "l = np.linspace(1, 10, 10)\n",
        "print(l)"
      ],
      "execution_count": 256,
      "outputs": [
        {
          "output_type": "stream",
          "text": [
            "[ 1.  2.  3.  4.  5.  6.  7.  8.  9. 10.]\n"
          ],
          "name": "stdout"
        }
      ]
    },
    {
      "cell_type": "code",
      "metadata": {
        "id": "VhjFkdvqybVv",
        "colab_type": "code",
        "colab": {
          "base_uri": "https://localhost:8080/",
          "height": 168
        },
        "outputId": "2c26415c-3fc1-439a-d65c-2caf1c70d3b8"
      },
      "source": [
        "len(l)"
      ],
      "execution_count": 257,
      "outputs": [
        {
          "output_type": "error",
          "ename": "TypeError",
          "evalue": "ignored",
          "traceback": [
            "\u001b[0;31m---------------------------------------------------------------------------\u001b[0m",
            "\u001b[0;31mTypeError\u001b[0m                                 Traceback (most recent call last)",
            "\u001b[0;32m<ipython-input-257-e75269d816bd>\u001b[0m in \u001b[0;36m<module>\u001b[0;34m()\u001b[0m\n\u001b[0;32m----> 1\u001b[0;31m \u001b[0mlen\u001b[0m\u001b[0;34m(\u001b[0m\u001b[0ml\u001b[0m\u001b[0;34m)\u001b[0m\u001b[0;34m\u001b[0m\u001b[0;34m\u001b[0m\u001b[0m\n\u001b[0m",
            "\u001b[0;31mTypeError\u001b[0m: 'int' object is not callable"
          ]
        }
      ]
    },
    {
      "cell_type": "code",
      "metadata": {
        "id": "ak8q1CdayfNr",
        "colab_type": "code",
        "colab": {}
      },
      "source": [
        ""
      ],
      "execution_count": null,
      "outputs": []
    }
  ]
}